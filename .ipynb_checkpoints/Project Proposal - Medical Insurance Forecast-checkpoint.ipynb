{
 "cells": [
  {
   "cell_type": "markdown",
   "metadata": {},
   "source": [
    "● Problem statement information\n",
    "\n",
    "Identify the accurate medical personal insurance cost for an US adult.\n",
    "\n",
    "● Context\n",
    "\n",
    "Unexpected cost are the most difficult one to budget. Especially when it come with medical expenses which are hard to estimate due to a complexity of individual medical condition, accidents, technology, and geography. To make profit, America medical insurance companies must collect total yearly premium than it spends on medical treatment for its recipients. Insurance companies decide to fund and invest to creating models, and using a collected dataset from the beneficiary's residential area in the US, northeast, southeast, southwest, northwest to identify the estimated insurance cost for an individual.\n",
    "\n",
    "● Criteria for success\n",
    "\n",
    "1. Developing a accurate predictive model to focast the insurance cost. \n",
    "2. The factors that can reduce or increasing medical cost.\n",
    "\n",
    "\n",
    "● Scope of solution space\n",
    "\n",
    "Find the relevant factors that contributes to the cost. \n",
    "\n",
    "\n",
    "● Constraints\n",
    "\n",
    "The quality of the dataset ( missing values, features, and inaccurate data). \n",
    "The personal information regarless to medical condition, lifestyle, and job title are not provided.\n",
    "\n",
    "\n",
    "● Stakeholders\n",
    "\n",
    "Medical insurance companies such as UnitedHealthCare, Anthem, Blue Shield\n",
    "\n",
    "● Data sources\n",
    " https://www.kaggle.com/mirichoi0218/insurance\n",
    " \n",
    "- Independent variables (X): age, sex, bmi, children, smoker, region\n",
    "- Predicted value / Dependent variable (y) : charges"
   ]
  },
  {
   "cell_type": "markdown",
   "metadata": {},
   "source": [
    "## GOAL: Predict medical insurance cost for a person\n",
    "\n",
    "Data Source:\n",
    "https://www.kaggle.com/mirichoi0218/insurance\n",
    "\n",
    "Data Attributes: There are total 7 columns for this dataset\n",
    "\n",
    "    - Independent variables (X): age, sex, bmi, children, smoker, region\n",
    "    - Predicted value / Dependent variable (y) : charges\n",
    "    \n",
    "    Name of 7 columns:\n",
    "    \n",
    "        * age: Age of of primary beneficiary\n",
    "        * sex: insurance contractor gender, male or female\n",
    "        * bmi: body mass index (kg/ m^2) relatives in height (meters) and weight (kg), ideally range 18.5-24.9)\n",
    "        * children: Number of children covered by health insurance/ Number of dependents.\n",
    "        * smoker: Whether the insurance contractor smoke or not ( yes/no)\n",
    "        * region: the beneficiary's residential area in the US, northeast, southeast, southwest, northwest\n",
    "        * charges: Individual medical costs billed by health insurance in USD ($) "
   ]
  }
 ],
 "metadata": {
  "kernelspec": {
   "display_name": "Python 3",
   "language": "python",
   "name": "python3"
  },
  "language_info": {
   "codemirror_mode": {
    "name": "ipython",
    "version": 3
   },
   "file_extension": ".py",
   "mimetype": "text/x-python",
   "name": "python",
   "nbconvert_exporter": "python",
   "pygments_lexer": "ipython3",
   "version": "3.8.3"
  }
 },
 "nbformat": 4,
 "nbformat_minor": 4
}
