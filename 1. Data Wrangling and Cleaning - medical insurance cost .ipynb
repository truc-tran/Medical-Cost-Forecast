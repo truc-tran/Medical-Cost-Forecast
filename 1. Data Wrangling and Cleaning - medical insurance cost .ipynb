{
 "cells": [
  {
   "cell_type": "markdown",
   "metadata": {},
   "source": [
    "# 1. Data Wrangling"
   ]
  },
  {
   "cell_type": "markdown",
   "metadata": {},
   "source": [
    "## Introdution"
   ]
  },
  {
   "cell_type": "markdown",
   "metadata": {},
   "source": [
    "<div class=\"alert alert-block alert-info\">\n",
    "\n",
    "__Context__: Medical expenses are hard estimate due to a complexity of individual medical condition, accidents, technology, and geography. Therefore, American health insurance companies are struggling to set a premium charging for insurance coverage. In order to earn a profit, they must properly predict medical expenses for its clients.\n",
    "\n",
    "__Planning__: In order to earn a profit, they must properly predict medical expenses for its clients. The health insurance companies decide to fund and invest to creating models, and using a collected dataset from the beneficiary's residential area in the US to identify the estimated insurance cost for an individual.\n",
    "\n",
    "__Goal__: Identify the accurate medical personal insurance cost in the US.\n",
    "\n",
    "__Data Source__: https://www.kaggle.com/mirichoi0218/insurance\n",
    "\n",
    "__Data Attributes__: There are total 7 columns for this dataset\n",
    "\n",
    "- Independent variables (X): age, sex, bmi, children, smoker, region\n",
    "- Predicted value / Dependent variable (y) : charges\n",
    "\n",
    "Name of 7 columns:\n",
    "    <ul>\n",
    "      <li>age: Age of of primary beneficiary</li>\n",
    "      <li>sex: insurance contractor gender, male or female</li>\n",
    "      <li>bmi: body mass index (kg/ m^2) relatives in height (meters) and weight (kg), ideally range 18.5-24.9</li>\n",
    "      <li>children: Number of children covered by health insurance/ Number of dependents.</li>\n",
    "      <li>smoker: Whether the insurance contractor smoke or not ( yes/no)</li>\n",
    "      <li>region: the beneficiary's residential area in the US, northeast, southeast, southwest, northwest</li>\n",
    "      <li>charges: Individual medical costs billed by health insurance in USD </li>\n",
    "    </ul>\n",
    "        \n",
    "</div>"
   ]
  },
  {
   "cell_type": "markdown",
   "metadata": {},
   "source": [
    "## Import"
   ]
  },
  {
   "cell_type": "code",
   "execution_count": 1,
   "metadata": {},
   "outputs": [],
   "source": [
    "import pandas as pd\n",
    "import matplotlib.pyplot as plt\n",
    "import seaborn as sns\n",
    "import os\n",
    "import numpy as np\n",
    "from scipy.stats import norm"
   ]
  },
  {
   "cell_type": "markdown",
   "metadata": {},
   "source": [
    "## Load The Medical Insurance Data"
   ]
  },
  {
   "cell_type": "code",
   "execution_count": 2,
   "metadata": {},
   "outputs": [
    {
     "name": "stdout",
     "output_type": "stream",
     "text": [
      "Shape of the medical insurance dataset:  (1338, 7)\n"
     ]
    }
   ],
   "source": [
    "file_name = 'insurance.csv'\n",
    "df = pd.read_csv(file_name)\n",
    "\n",
    "print('Shape of the medical insurance dataset: ', df.shape)"
   ]
  },
  {
   "cell_type": "code",
   "execution_count": 3,
   "metadata": {},
   "outputs": [
    {
     "data": {
      "text/html": [
       "<div>\n",
       "<style scoped>\n",
       "    .dataframe tbody tr th:only-of-type {\n",
       "        vertical-align: middle;\n",
       "    }\n",
       "\n",
       "    .dataframe tbody tr th {\n",
       "        vertical-align: top;\n",
       "    }\n",
       "\n",
       "    .dataframe thead th {\n",
       "        text-align: right;\n",
       "    }\n",
       "</style>\n",
       "<table border=\"1\" class=\"dataframe\">\n",
       "  <thead>\n",
       "    <tr style=\"text-align: right;\">\n",
       "      <th></th>\n",
       "      <th>age</th>\n",
       "      <th>sex</th>\n",
       "      <th>bmi</th>\n",
       "      <th>children</th>\n",
       "      <th>smoker</th>\n",
       "      <th>region</th>\n",
       "      <th>charges</th>\n",
       "    </tr>\n",
       "  </thead>\n",
       "  <tbody>\n",
       "    <tr>\n",
       "      <th>0</th>\n",
       "      <td>19</td>\n",
       "      <td>female</td>\n",
       "      <td>27.900</td>\n",
       "      <td>0</td>\n",
       "      <td>yes</td>\n",
       "      <td>southwest</td>\n",
       "      <td>16884.92400</td>\n",
       "    </tr>\n",
       "    <tr>\n",
       "      <th>1</th>\n",
       "      <td>18</td>\n",
       "      <td>male</td>\n",
       "      <td>33.770</td>\n",
       "      <td>1</td>\n",
       "      <td>no</td>\n",
       "      <td>southeast</td>\n",
       "      <td>1725.55230</td>\n",
       "    </tr>\n",
       "    <tr>\n",
       "      <th>2</th>\n",
       "      <td>28</td>\n",
       "      <td>male</td>\n",
       "      <td>33.000</td>\n",
       "      <td>3</td>\n",
       "      <td>no</td>\n",
       "      <td>southeast</td>\n",
       "      <td>4449.46200</td>\n",
       "    </tr>\n",
       "    <tr>\n",
       "      <th>3</th>\n",
       "      <td>33</td>\n",
       "      <td>male</td>\n",
       "      <td>22.705</td>\n",
       "      <td>0</td>\n",
       "      <td>no</td>\n",
       "      <td>northwest</td>\n",
       "      <td>21984.47061</td>\n",
       "    </tr>\n",
       "    <tr>\n",
       "      <th>4</th>\n",
       "      <td>32</td>\n",
       "      <td>male</td>\n",
       "      <td>28.880</td>\n",
       "      <td>0</td>\n",
       "      <td>no</td>\n",
       "      <td>northwest</td>\n",
       "      <td>3866.85520</td>\n",
       "    </tr>\n",
       "  </tbody>\n",
       "</table>\n",
       "</div>"
      ],
      "text/plain": [
       "   age     sex     bmi  children smoker     region      charges\n",
       "0   19  female  27.900         0    yes  southwest  16884.92400\n",
       "1   18    male  33.770         1     no  southeast   1725.55230\n",
       "2   28    male  33.000         3     no  southeast   4449.46200\n",
       "3   33    male  22.705         0     no  northwest  21984.47061\n",
       "4   32    male  28.880         0     no  northwest   3866.85520"
      ]
     },
     "execution_count": 3,
     "metadata": {},
     "output_type": "execute_result"
    }
   ],
   "source": [
    "df.head()"
   ]
  },
  {
   "cell_type": "code",
   "execution_count": 4,
   "metadata": {},
   "outputs": [
    {
     "name": "stdout",
     "output_type": "stream",
     "text": [
      "<class 'pandas.core.frame.DataFrame'>\n",
      "RangeIndex: 1338 entries, 0 to 1337\n",
      "Data columns (total 7 columns):\n",
      " #   Column    Non-Null Count  Dtype  \n",
      "---  ------    --------------  -----  \n",
      " 0   age       1338 non-null   int64  \n",
      " 1   sex       1338 non-null   object \n",
      " 2   bmi       1338 non-null   float64\n",
      " 3   children  1338 non-null   int64  \n",
      " 4   smoker    1338 non-null   object \n",
      " 5   region    1338 non-null   object \n",
      " 6   charges   1338 non-null   float64\n",
      "dtypes: float64(2), int64(2), object(3)\n",
      "memory usage: 73.3+ KB\n",
      "None\n",
      "\n",
      "               age          bmi     children       charges\n",
      "count  1338.000000  1338.000000  1338.000000   1338.000000\n",
      "mean     39.207025    30.663397     1.094918  13270.422265\n",
      "std      14.049960     6.098187     1.205493  12110.011237\n",
      "min      18.000000    15.960000     0.000000   1121.873900\n",
      "25%      27.000000    26.296250     0.000000   4740.287150\n",
      "50%      39.000000    30.400000     1.000000   9382.033000\n",
      "75%      51.000000    34.693750     2.000000  16639.912515\n",
      "max      64.000000    53.130000     5.000000  63770.428010\n"
     ]
    }
   ],
   "source": [
    "# Check the data infomation\n",
    "print(df.info())\n",
    "print()\n",
    "print(df.describe())"
   ]
  },
  {
   "cell_type": "code",
   "execution_count": 5,
   "metadata": {},
   "outputs": [
    {
     "data": {
      "text/html": [
       "<div>\n",
       "<style scoped>\n",
       "    .dataframe tbody tr th:only-of-type {\n",
       "        vertical-align: middle;\n",
       "    }\n",
       "\n",
       "    .dataframe tbody tr th {\n",
       "        vertical-align: top;\n",
       "    }\n",
       "\n",
       "    .dataframe thead th {\n",
       "        text-align: right;\n",
       "    }\n",
       "</style>\n",
       "<table border=\"1\" class=\"dataframe\">\n",
       "  <thead>\n",
       "    <tr style=\"text-align: right;\">\n",
       "      <th></th>\n",
       "      <th>age</th>\n",
       "      <th>sex</th>\n",
       "      <th>bmi</th>\n",
       "      <th>children</th>\n",
       "      <th>smoker</th>\n",
       "      <th>region</th>\n",
       "      <th>charges</th>\n",
       "    </tr>\n",
       "  </thead>\n",
       "  <tbody>\n",
       "    <tr>\n",
       "      <th>0</th>\n",
       "      <td>19</td>\n",
       "      <td>female</td>\n",
       "      <td>27.900</td>\n",
       "      <td>0</td>\n",
       "      <td>yes</td>\n",
       "      <td>southwest</td>\n",
       "      <td>16884.92400</td>\n",
       "    </tr>\n",
       "    <tr>\n",
       "      <th>1</th>\n",
       "      <td>18</td>\n",
       "      <td>male</td>\n",
       "      <td>33.770</td>\n",
       "      <td>1</td>\n",
       "      <td>no</td>\n",
       "      <td>southeast</td>\n",
       "      <td>1725.55230</td>\n",
       "    </tr>\n",
       "    <tr>\n",
       "      <th>2</th>\n",
       "      <td>28</td>\n",
       "      <td>male</td>\n",
       "      <td>33.000</td>\n",
       "      <td>3</td>\n",
       "      <td>no</td>\n",
       "      <td>southeast</td>\n",
       "      <td>4449.46200</td>\n",
       "    </tr>\n",
       "    <tr>\n",
       "      <th>3</th>\n",
       "      <td>33</td>\n",
       "      <td>male</td>\n",
       "      <td>22.705</td>\n",
       "      <td>0</td>\n",
       "      <td>no</td>\n",
       "      <td>northwest</td>\n",
       "      <td>21984.47061</td>\n",
       "    </tr>\n",
       "    <tr>\n",
       "      <th>4</th>\n",
       "      <td>32</td>\n",
       "      <td>male</td>\n",
       "      <td>28.880</td>\n",
       "      <td>0</td>\n",
       "      <td>no</td>\n",
       "      <td>northwest</td>\n",
       "      <td>3866.85520</td>\n",
       "    </tr>\n",
       "    <tr>\n",
       "      <th>...</th>\n",
       "      <td>...</td>\n",
       "      <td>...</td>\n",
       "      <td>...</td>\n",
       "      <td>...</td>\n",
       "      <td>...</td>\n",
       "      <td>...</td>\n",
       "      <td>...</td>\n",
       "    </tr>\n",
       "    <tr>\n",
       "      <th>1333</th>\n",
       "      <td>50</td>\n",
       "      <td>male</td>\n",
       "      <td>30.970</td>\n",
       "      <td>3</td>\n",
       "      <td>no</td>\n",
       "      <td>northwest</td>\n",
       "      <td>10600.54830</td>\n",
       "    </tr>\n",
       "    <tr>\n",
       "      <th>1334</th>\n",
       "      <td>18</td>\n",
       "      <td>female</td>\n",
       "      <td>31.920</td>\n",
       "      <td>0</td>\n",
       "      <td>no</td>\n",
       "      <td>northeast</td>\n",
       "      <td>2205.98080</td>\n",
       "    </tr>\n",
       "    <tr>\n",
       "      <th>1335</th>\n",
       "      <td>18</td>\n",
       "      <td>female</td>\n",
       "      <td>36.850</td>\n",
       "      <td>0</td>\n",
       "      <td>no</td>\n",
       "      <td>southeast</td>\n",
       "      <td>1629.83350</td>\n",
       "    </tr>\n",
       "    <tr>\n",
       "      <th>1336</th>\n",
       "      <td>21</td>\n",
       "      <td>female</td>\n",
       "      <td>25.800</td>\n",
       "      <td>0</td>\n",
       "      <td>no</td>\n",
       "      <td>southwest</td>\n",
       "      <td>2007.94500</td>\n",
       "    </tr>\n",
       "    <tr>\n",
       "      <th>1337</th>\n",
       "      <td>61</td>\n",
       "      <td>female</td>\n",
       "      <td>29.070</td>\n",
       "      <td>0</td>\n",
       "      <td>yes</td>\n",
       "      <td>northwest</td>\n",
       "      <td>29141.36030</td>\n",
       "    </tr>\n",
       "  </tbody>\n",
       "</table>\n",
       "<p>1338 rows × 7 columns</p>\n",
       "</div>"
      ],
      "text/plain": [
       "      age     sex     bmi  children smoker     region      charges\n",
       "0      19  female  27.900         0    yes  southwest  16884.92400\n",
       "1      18    male  33.770         1     no  southeast   1725.55230\n",
       "2      28    male  33.000         3     no  southeast   4449.46200\n",
       "3      33    male  22.705         0     no  northwest  21984.47061\n",
       "4      32    male  28.880         0     no  northwest   3866.85520\n",
       "...   ...     ...     ...       ...    ...        ...          ...\n",
       "1333   50    male  30.970         3     no  northwest  10600.54830\n",
       "1334   18  female  31.920         0     no  northeast   2205.98080\n",
       "1335   18  female  36.850         0     no  southeast   1629.83350\n",
       "1336   21  female  25.800         0     no  southwest   2007.94500\n",
       "1337   61  female  29.070         0    yes  northwest  29141.36030\n",
       "\n",
       "[1338 rows x 7 columns]"
      ]
     },
     "execution_count": 5,
     "metadata": {},
     "output_type": "execute_result"
    }
   ],
   "source": [
    "df"
   ]
  },
  {
   "cell_type": "markdown",
   "metadata": {},
   "source": [
    "## Explore The Data"
   ]
  },
  {
   "cell_type": "markdown",
   "metadata": {},
   "source": [
    "### A. Number Of Missing Values By Column"
   ]
  },
  {
   "cell_type": "code",
   "execution_count": 6,
   "metadata": {},
   "outputs": [
    {
     "data": {
      "text/plain": [
       "age         0\n",
       "sex         0\n",
       "bmi         0\n",
       "children    0\n",
       "smoker      0\n",
       "region      0\n",
       "charges     0\n",
       "dtype: int64"
      ]
     },
     "execution_count": 6,
     "metadata": {},
     "output_type": "execute_result"
    }
   ],
   "source": [
    "df.isnull().sum()"
   ]
  },
  {
   "cell_type": "markdown",
   "metadata": {},
   "source": [
    "There are no missing data here."
   ]
  },
  {
   "cell_type": "markdown",
   "metadata": {},
   "source": [
    "### Create new features: weight_status and age_group"
   ]
  },
  {
   "cell_type": "markdown",
   "metadata": {},
   "source": [
    "#### Create weight status based on BMI value"
   ]
  },
  {
   "cell_type": "code",
   "execution_count": 7,
   "metadata": {},
   "outputs": [
    {
     "name": "stdout",
     "output_type": "stream",
     "text": [
      "Unique value in `weight_status` column: ['2.Overweight', '3.Obese', '1.Normal', '0.Underweight']\n"
     ]
    },
    {
     "data": {
      "text/html": [
       "<div>\n",
       "<style scoped>\n",
       "    .dataframe tbody tr th:only-of-type {\n",
       "        vertical-align: middle;\n",
       "    }\n",
       "\n",
       "    .dataframe tbody tr th {\n",
       "        vertical-align: top;\n",
       "    }\n",
       "\n",
       "    .dataframe thead th {\n",
       "        text-align: right;\n",
       "    }\n",
       "</style>\n",
       "<table border=\"1\" class=\"dataframe\">\n",
       "  <thead>\n",
       "    <tr style=\"text-align: right;\">\n",
       "      <th></th>\n",
       "      <th>age</th>\n",
       "      <th>sex</th>\n",
       "      <th>bmi</th>\n",
       "      <th>children</th>\n",
       "      <th>smoker</th>\n",
       "      <th>region</th>\n",
       "      <th>charges</th>\n",
       "      <th>weight_status</th>\n",
       "    </tr>\n",
       "  </thead>\n",
       "  <tbody>\n",
       "    <tr>\n",
       "      <th>0</th>\n",
       "      <td>19</td>\n",
       "      <td>female</td>\n",
       "      <td>27.900</td>\n",
       "      <td>0</td>\n",
       "      <td>yes</td>\n",
       "      <td>southwest</td>\n",
       "      <td>16884.92400</td>\n",
       "      <td>2.Overweight</td>\n",
       "    </tr>\n",
       "    <tr>\n",
       "      <th>1</th>\n",
       "      <td>18</td>\n",
       "      <td>male</td>\n",
       "      <td>33.770</td>\n",
       "      <td>1</td>\n",
       "      <td>no</td>\n",
       "      <td>southeast</td>\n",
       "      <td>1725.55230</td>\n",
       "      <td>3.Obese</td>\n",
       "    </tr>\n",
       "    <tr>\n",
       "      <th>2</th>\n",
       "      <td>28</td>\n",
       "      <td>male</td>\n",
       "      <td>33.000</td>\n",
       "      <td>3</td>\n",
       "      <td>no</td>\n",
       "      <td>southeast</td>\n",
       "      <td>4449.46200</td>\n",
       "      <td>3.Obese</td>\n",
       "    </tr>\n",
       "    <tr>\n",
       "      <th>3</th>\n",
       "      <td>33</td>\n",
       "      <td>male</td>\n",
       "      <td>22.705</td>\n",
       "      <td>0</td>\n",
       "      <td>no</td>\n",
       "      <td>northwest</td>\n",
       "      <td>21984.47061</td>\n",
       "      <td>1.Normal</td>\n",
       "    </tr>\n",
       "    <tr>\n",
       "      <th>4</th>\n",
       "      <td>32</td>\n",
       "      <td>male</td>\n",
       "      <td>28.880</td>\n",
       "      <td>0</td>\n",
       "      <td>no</td>\n",
       "      <td>northwest</td>\n",
       "      <td>3866.85520</td>\n",
       "      <td>2.Overweight</td>\n",
       "    </tr>\n",
       "  </tbody>\n",
       "</table>\n",
       "</div>"
      ],
      "text/plain": [
       "   age     sex     bmi  children smoker     region      charges weight_status\n",
       "0   19  female  27.900         0    yes  southwest  16884.92400  2.Overweight\n",
       "1   18    male  33.770         1     no  southeast   1725.55230       3.Obese\n",
       "2   28    male  33.000         3     no  southeast   4449.46200       3.Obese\n",
       "3   33    male  22.705         0     no  northwest  21984.47061      1.Normal\n",
       "4   32    male  28.880         0     no  northwest   3866.85520  2.Overweight"
      ]
     },
     "execution_count": 7,
     "metadata": {},
     "output_type": "execute_result"
    }
   ],
   "source": [
    "# create a list of bmi conditions\n",
    "conditions = [  (df['bmi'] < 18.5),\n",
    "                (df['bmi'] >= 18.5) & (df['bmi'] < 24.999),\n",
    "                (df['bmi'] >= 25) & (df['bmi'] < 29.999),\n",
    "                (df['bmi'] >= 30)\n",
    "             ]\n",
    "\n",
    "# create a list of the values we want to assign for each condition\n",
    "values = ['0.Underweight', '1.Normal', '2.Overweight', '3.Obese']\n",
    "\n",
    "# create a new column and use np.select to assign values to it using our lists as arguments\n",
    "df['weight_status'] = np.select(conditions, values)\n",
    "\n",
    "print(f'Unique value in `weight_status` column: {list(df.weight_status.unique())}')\n",
    "df.head()"
   ]
  },
  {
   "cell_type": "markdown",
   "metadata": {},
   "source": [
    "#### Create age_group based on age value"
   ]
  },
  {
   "cell_type": "code",
   "execution_count": 30,
   "metadata": {},
   "outputs": [
    {
     "data": {
      "text/html": [
       "<div>\n",
       "<style scoped>\n",
       "    .dataframe tbody tr th:only-of-type {\n",
       "        vertical-align: middle;\n",
       "    }\n",
       "\n",
       "    .dataframe tbody tr th {\n",
       "        vertical-align: top;\n",
       "    }\n",
       "\n",
       "    .dataframe thead th {\n",
       "        text-align: right;\n",
       "    }\n",
       "</style>\n",
       "<table border=\"1\" class=\"dataframe\">\n",
       "  <thead>\n",
       "    <tr style=\"text-align: right;\">\n",
       "      <th></th>\n",
       "      <th>age</th>\n",
       "      <th>sex</th>\n",
       "      <th>bmi</th>\n",
       "      <th>children</th>\n",
       "      <th>smoker</th>\n",
       "      <th>region</th>\n",
       "      <th>charges</th>\n",
       "      <th>weight_status</th>\n",
       "      <th>age_group</th>\n",
       "    </tr>\n",
       "  </thead>\n",
       "  <tbody>\n",
       "    <tr>\n",
       "      <th>0</th>\n",
       "      <td>19</td>\n",
       "      <td>female</td>\n",
       "      <td>27.900</td>\n",
       "      <td>0</td>\n",
       "      <td>yes</td>\n",
       "      <td>southwest</td>\n",
       "      <td>16884.92400</td>\n",
       "      <td>2.Overweight</td>\n",
       "      <td>19-34</td>\n",
       "    </tr>\n",
       "    <tr>\n",
       "      <th>1</th>\n",
       "      <td>18</td>\n",
       "      <td>male</td>\n",
       "      <td>33.770</td>\n",
       "      <td>1</td>\n",
       "      <td>no</td>\n",
       "      <td>southeast</td>\n",
       "      <td>1725.55230</td>\n",
       "      <td>3.Obese</td>\n",
       "      <td>18-19</td>\n",
       "    </tr>\n",
       "    <tr>\n",
       "      <th>2</th>\n",
       "      <td>28</td>\n",
       "      <td>male</td>\n",
       "      <td>33.000</td>\n",
       "      <td>3</td>\n",
       "      <td>no</td>\n",
       "      <td>southeast</td>\n",
       "      <td>4449.46200</td>\n",
       "      <td>3.Obese</td>\n",
       "      <td>19-34</td>\n",
       "    </tr>\n",
       "    <tr>\n",
       "      <th>3</th>\n",
       "      <td>33</td>\n",
       "      <td>male</td>\n",
       "      <td>22.705</td>\n",
       "      <td>0</td>\n",
       "      <td>no</td>\n",
       "      <td>northwest</td>\n",
       "      <td>21984.47061</td>\n",
       "      <td>1.Normal</td>\n",
       "      <td>19-34</td>\n",
       "    </tr>\n",
       "    <tr>\n",
       "      <th>4</th>\n",
       "      <td>32</td>\n",
       "      <td>male</td>\n",
       "      <td>28.880</td>\n",
       "      <td>0</td>\n",
       "      <td>no</td>\n",
       "      <td>northwest</td>\n",
       "      <td>3866.85520</td>\n",
       "      <td>2.Overweight</td>\n",
       "      <td>19-34</td>\n",
       "    </tr>\n",
       "  </tbody>\n",
       "</table>\n",
       "</div>"
      ],
      "text/plain": [
       "   age     sex     bmi  children smoker     region      charges weight_status  \\\n",
       "0   19  female  27.900         0    yes  southwest  16884.92400  2.Overweight   \n",
       "1   18    male  33.770         1     no  southeast   1725.55230       3.Obese   \n",
       "2   28    male  33.000         3     no  southeast   4449.46200       3.Obese   \n",
       "3   33    male  22.705         0     no  northwest  21984.47061      1.Normal   \n",
       "4   32    male  28.880         0     no  northwest   3866.85520  2.Overweight   \n",
       "\n",
       "  age_group  \n",
       "0     19-34  \n",
       "1     18-19  \n",
       "2     19-34  \n",
       "3     19-34  \n",
       "4     19-34  "
      ]
     },
     "execution_count": 30,
     "metadata": {},
     "output_type": "execute_result"
    }
   ],
   "source": [
    "def age_buckets(x): \n",
    "    if x < 19: return '18-19' \n",
    "    elif x <= 34: return '19-34' \n",
    "    elif x <= 44: return '35-44' \n",
    "    elif x <= 54: return '45-54' \n",
    "    elif x <= 64: return '55-64' \n",
    "    else: return '+65'\n",
    "    \n",
    "df['age_group'] = df.age.apply(age_buckets)\n",
    "df.head()"
   ]
  },
  {
   "cell_type": "markdown",
   "metadata": {},
   "source": [
    "### B. Categorical Feature"
   ]
  },
  {
   "cell_type": "markdown",
   "metadata": {},
   "source": [
    "Unique values for each categorical feature"
   ]
  },
  {
   "cell_type": "code",
   "execution_count": 9,
   "metadata": {},
   "outputs": [
    {
     "name": "stdout",
     "output_type": "stream",
     "text": [
      "Catergorical Features: ['sex', 'smoker', 'region', 'weight_status', 'age_group']\n",
      "\n",
      "Count the distinct values of categorical variables: \n",
      "\n",
      "SEX: \n",
      "male      676\n",
      "female    662\n",
      "Name: sex, dtype: int64\n",
      "\n",
      "SMOKER: \n",
      "no     1064\n",
      "yes     274\n",
      "Name: smoker, dtype: int64\n",
      "\n",
      "REGION: \n",
      "southeast    364\n",
      "southwest    325\n",
      "northwest    325\n",
      "northeast    324\n",
      "Name: region, dtype: int64\n",
      "\n",
      "CHILDREN: \n",
      "0    574\n",
      "1    324\n",
      "2    240\n",
      "3    157\n",
      "4     25\n",
      "5     18\n",
      "Name: children, dtype: int64\n",
      "\n",
      "WEIGHT_STATUS: \n",
      "3.Obese          707\n",
      "2.Overweight     386\n",
      "1.Normal         225\n",
      "0.Underweight     20\n",
      "Name: weight_status, dtype: int64\n",
      "\n"
     ]
    }
   ],
   "source": [
    "obj_cols = list(df.select_dtypes(object).columns)\n",
    "print(f\"Catergorical Features: {obj_cols}\\n\")\n",
    "\n",
    "sex = df.sex.value_counts()\n",
    "smoker = df.smoker.value_counts()\n",
    "region = df.region.value_counts()\n",
    "children = df.children.value_counts()\n",
    "weight_status = df.weight_status.value_counts()\n",
    "\n",
    "# Unique value for `sex`, `smoker`, `region`, `children` columns\n",
    "print(\"Count the distinct values of categorical variables: \\n\")\n",
    "print(f'SEX: \\n{sex}\\n')\n",
    "print(f'SMOKER: \\n{smoker}\\n')\n",
    "print(f'REGION: \\n{region}\\n')\n",
    "print(f'CHILDREN: \\n{children}\\n')\n",
    "print(f'WEIGHT_STATUS: \\n{weight_status}\\n')\n"
   ]
  },
  {
   "cell_type": "markdown",
   "metadata": {},
   "source": [
    "I added `children` column in this catergorical feature because the number of children as an interger represent a catergorize/group of people."
   ]
  },
  {
   "cell_type": "code",
   "execution_count": 10,
   "metadata": {},
   "outputs": [
    {
     "data": {
      "image/png": "[encoded data removed]",
      "text/plain": [
       "<Figure size 2520x2520 with 5 Axes>"
      ]
     },
     "metadata": {},
     "output_type": "display_data"
    }
   ],
   "source": [
    "fig = plt.figure(figsize=(35, 35))\n",
    "ax1 = fig.add_subplot(1, 5, 1)\n",
    "ax2 = fig.add_subplot(1, 5, 2)\n",
    "ax3 = fig.add_subplot(1, 5, 3)\n",
    "ax4 = fig.add_subplot(1, 5, 4)\n",
    "ax5 = fig.add_subplot(1, 5, 5)\n",
    "    \n",
    "ax1.pie(region, shadow = True, labels=region.index, autopct=lambda p : '{:.2f}%  ({:,.0f})'.format(p,p * sum(region)/100), pctdistance=0.5)\n",
    "ax2.pie(sex, shadow = True, labels=smoker.index, autopct=lambda p : '{:.2f}%  ({:,.0f})'.format(p,p * sum(smoker)/100), pctdistance=0.5)\n",
    "ax3.pie(smoker, shadow = True, labels=smoker.index, autopct=lambda p : '{:.2f}%  ({:,.0f})'.format(p,p * sum(smoker)/100), pctdistance=0.5)\n",
    "ax4.pie(children, shadow = True, labels=children.index, autopct=lambda p : '{:.2f}%  ({:,.0f})'.format(p,p * sum(children)/100), pctdistance=0.5)\n",
    "ax5.pie(weight_status, shadow = True, labels=weight_status.index, autopct=lambda p : '{:.2f}%  ({:,.0f})'.format(p,p * sum(weight_status)/100), pctdistance=0.5)\n",
    "\n",
    "\n",
    "# Add title\n",
    "ax1.set_title('Region')\n",
    "ax2.set_title('Sex')\n",
    "ax3.set_title('Smoker')\n",
    "ax4.set_title('Children')\n",
    "ax5.set_title('Weight Status')\n",
    "    \n",
    "plt.show()\n"
   ]
  },
  {
   "cell_type": "markdown",
   "metadata": {},
   "source": [
    "#### B.1 Distribution of Charges Per Region"
   ]
  },
  {
   "cell_type": "code",
   "execution_count": 11,
   "metadata": {},
   "outputs": [
    {
     "name": "stdout",
     "output_type": "stream",
     "text": [
      "Index(['northeast', 'northwest', 'southeast', 'southwest'], dtype='object', name='region')\n"
     ]
    }
   ],
   "source": [
    "region_charge_means = df.groupby(by='region')[['charges']].mean()\n",
    "print(region_charge_means.index)\n",
    "region_charge_df = region_charge_means.reindex(index=region_charge_means.mean(axis=1)\n",
    "    .sort_values(ascending=False)\n",
    "    .index\n",
    ")"
   ]
  },
  {
   "cell_type": "code",
   "execution_count": 12,
   "metadata": {},
   "outputs": [
    {
     "data": {
      "image/png": "[encoded data removed]",
      "text/plain": [
       "<Figure size 720x576 with 1 Axes>"
      ]
     },
     "metadata": {
      "needs_background": "light"
     },
     "output_type": "display_data"
    }
   ],
   "source": [
    "sorted_region_charge_means = region_charge_means.reindex(index=region_charge_means.mean(axis=1)\n",
    "                                                         .sort_values(ascending=True)\n",
    "                                                         .index)\n",
    "xs = list(sorted_region_charge_means.index)\n",
    "ys = list(sorted_region_charge_means.charges)\n",
    "\n",
    "plt.figure(figsize = (10, 8))\n",
    "plt.bar(xs, ys)\n",
    "\n",
    "for x,y in zip(xs, ys):\n",
    "    label = \"$ {:.2f}\".format(y)\n",
    "    plt.annotate(label,(x, y),textcoords=\"offset points\", xytext=(0,10), ha='center')\n",
    "\n",
    "plt.title(\"Average Insurance Cost by Region\")\n",
    "plt.xlabel(\"Region\")\n",
    "plt.ylabel(\"Cost ($)\")\n",
    "plt.show()"
   ]
  },
  {
   "cell_type": "markdown",
   "metadata": {},
   "source": [
    "### C. Numerical Features"
   ]
  },
  {
   "cell_type": "code",
   "execution_count": 13,
   "metadata": {},
   "outputs": [
    {
     "name": "stdout",
     "output_type": "stream",
     "text": [
      "Numerical Features: ['age', 'bmi', 'children', 'charges']\n"
     ]
    }
   ],
   "source": [
    "numeric_cols = list(df._get_numeric_data().columns)\n",
    "print(f\"Numerical Features: {numeric_cols}\")"
   ]
  },
  {
   "cell_type": "markdown",
   "metadata": {},
   "source": [
    "### D. The statistical information of the dataset"
   ]
  },
  {
   "cell_type": "code",
   "execution_count": 14,
   "metadata": {},
   "outputs": [
    {
     "data": {
      "text/html": [
       "<div>\n",
       "<style scoped>\n",
       "    .dataframe tbody tr th:only-of-type {\n",
       "        vertical-align: middle;\n",
       "    }\n",
       "\n",
       "    .dataframe tbody tr th {\n",
       "        vertical-align: top;\n",
       "    }\n",
       "\n",
       "    .dataframe thead th {\n",
       "        text-align: right;\n",
       "    }\n",
       "</style>\n",
       "<table border=\"1\" class=\"dataframe\">\n",
       "  <thead>\n",
       "    <tr style=\"text-align: right;\">\n",
       "      <th></th>\n",
       "      <th>count</th>\n",
       "      <th>mean</th>\n",
       "      <th>std</th>\n",
       "      <th>min</th>\n",
       "      <th>25%</th>\n",
       "      <th>50%</th>\n",
       "      <th>75%</th>\n",
       "      <th>max</th>\n",
       "    </tr>\n",
       "  </thead>\n",
       "  <tbody>\n",
       "    <tr>\n",
       "      <th>age</th>\n",
       "      <td>1338.0</td>\n",
       "      <td>39.207025</td>\n",
       "      <td>14.049960</td>\n",
       "      <td>18.0000</td>\n",
       "      <td>27.00000</td>\n",
       "      <td>39.000</td>\n",
       "      <td>51.000000</td>\n",
       "      <td>64.00000</td>\n",
       "    </tr>\n",
       "    <tr>\n",
       "      <th>bmi</th>\n",
       "      <td>1338.0</td>\n",
       "      <td>30.663397</td>\n",
       "      <td>6.098187</td>\n",
       "      <td>15.9600</td>\n",
       "      <td>26.29625</td>\n",
       "      <td>30.400</td>\n",
       "      <td>34.693750</td>\n",
       "      <td>53.13000</td>\n",
       "    </tr>\n",
       "    <tr>\n",
       "      <th>children</th>\n",
       "      <td>1338.0</td>\n",
       "      <td>1.094918</td>\n",
       "      <td>1.205493</td>\n",
       "      <td>0.0000</td>\n",
       "      <td>0.00000</td>\n",
       "      <td>1.000</td>\n",
       "      <td>2.000000</td>\n",
       "      <td>5.00000</td>\n",
       "    </tr>\n",
       "    <tr>\n",
       "      <th>charges</th>\n",
       "      <td>1338.0</td>\n",
       "      <td>13270.422265</td>\n",
       "      <td>12110.011237</td>\n",
       "      <td>1121.8739</td>\n",
       "      <td>4740.28715</td>\n",
       "      <td>9382.033</td>\n",
       "      <td>16639.912515</td>\n",
       "      <td>63770.42801</td>\n",
       "    </tr>\n",
       "  </tbody>\n",
       "</table>\n",
       "</div>"
      ],
      "text/plain": [
       "           count          mean           std        min         25%       50%  \\\n",
       "age       1338.0     39.207025     14.049960    18.0000    27.00000    39.000   \n",
       "bmi       1338.0     30.663397      6.098187    15.9600    26.29625    30.400   \n",
       "children  1338.0      1.094918      1.205493     0.0000     0.00000     1.000   \n",
       "charges   1338.0  13270.422265  12110.011237  1121.8739  4740.28715  9382.033   \n",
       "\n",
       "                   75%          max  \n",
       "age          51.000000     64.00000  \n",
       "bmi          34.693750     53.13000  \n",
       "children      2.000000      5.00000  \n",
       "charges   16639.912515  63770.42801  "
      ]
     },
     "execution_count": 14,
     "metadata": {},
     "output_type": "execute_result"
    }
   ],
   "source": [
    "df.describe().T"
   ]
  },
  {
   "cell_type": "markdown",
   "metadata": {},
   "source": [
    "### E. The statistical insurance cost grouped by each region"
   ]
  },
  {
   "cell_type": "code",
   "execution_count": 15,
   "metadata": {},
   "outputs": [
    {
     "data": {
      "text/html": [
       "<div>\n",
       "<style scoped>\n",
       "    .dataframe tbody tr th:only-of-type {\n",
       "        vertical-align: middle;\n",
       "    }\n",
       "\n",
       "    .dataframe tbody tr th {\n",
       "        vertical-align: top;\n",
       "    }\n",
       "\n",
       "    .dataframe thead th {\n",
       "        text-align: right;\n",
       "    }\n",
       "</style>\n",
       "<table border=\"1\" class=\"dataframe\">\n",
       "  <thead>\n",
       "    <tr style=\"text-align: right;\">\n",
       "      <th></th>\n",
       "      <th>region</th>\n",
       "      <th>northeast</th>\n",
       "      <th>northwest</th>\n",
       "      <th>southeast</th>\n",
       "      <th>southwest</th>\n",
       "    </tr>\n",
       "  </thead>\n",
       "  <tbody>\n",
       "    <tr>\n",
       "      <th rowspan=\"8\" valign=\"top\">age</th>\n",
       "      <th>count</th>\n",
       "      <td>324.000000</td>\n",
       "      <td>325.000000</td>\n",
       "      <td>364.000000</td>\n",
       "      <td>325.000000</td>\n",
       "    </tr>\n",
       "    <tr>\n",
       "      <th>mean</th>\n",
       "      <td>39.268519</td>\n",
       "      <td>39.196923</td>\n",
       "      <td>38.939560</td>\n",
       "      <td>39.455385</td>\n",
       "    </tr>\n",
       "    <tr>\n",
       "      <th>std</th>\n",
       "      <td>14.069007</td>\n",
       "      <td>14.051646</td>\n",
       "      <td>14.164585</td>\n",
       "      <td>13.959886</td>\n",
       "    </tr>\n",
       "    <tr>\n",
       "      <th>min</th>\n",
       "      <td>18.000000</td>\n",
       "      <td>19.000000</td>\n",
       "      <td>18.000000</td>\n",
       "      <td>19.000000</td>\n",
       "    </tr>\n",
       "    <tr>\n",
       "      <th>25%</th>\n",
       "      <td>27.000000</td>\n",
       "      <td>26.000000</td>\n",
       "      <td>26.750000</td>\n",
       "      <td>27.000000</td>\n",
       "    </tr>\n",
       "    <tr>\n",
       "      <th>50%</th>\n",
       "      <td>39.500000</td>\n",
       "      <td>39.000000</td>\n",
       "      <td>39.000000</td>\n",
       "      <td>39.000000</td>\n",
       "    </tr>\n",
       "    <tr>\n",
       "      <th>75%</th>\n",
       "      <td>51.000000</td>\n",
       "      <td>51.000000</td>\n",
       "      <td>51.000000</td>\n",
       "      <td>51.000000</td>\n",
       "    </tr>\n",
       "    <tr>\n",
       "      <th>max</th>\n",
       "      <td>64.000000</td>\n",
       "      <td>64.000000</td>\n",
       "      <td>64.000000</td>\n",
       "      <td>64.000000</td>\n",
       "    </tr>\n",
       "    <tr>\n",
       "      <th rowspan=\"8\" valign=\"top\">bmi</th>\n",
       "      <th>count</th>\n",
       "      <td>324.000000</td>\n",
       "      <td>325.000000</td>\n",
       "      <td>364.000000</td>\n",
       "      <td>325.000000</td>\n",
       "    </tr>\n",
       "    <tr>\n",
       "      <th>mean</th>\n",
       "      <td>29.173503</td>\n",
       "      <td>29.199785</td>\n",
       "      <td>33.355989</td>\n",
       "      <td>30.596615</td>\n",
       "    </tr>\n",
       "    <tr>\n",
       "      <th>std</th>\n",
       "      <td>5.937513</td>\n",
       "      <td>5.136765</td>\n",
       "      <td>6.477648</td>\n",
       "      <td>5.691836</td>\n",
       "    </tr>\n",
       "    <tr>\n",
       "      <th>min</th>\n",
       "      <td>15.960000</td>\n",
       "      <td>17.385000</td>\n",
       "      <td>19.800000</td>\n",
       "      <td>17.400000</td>\n",
       "    </tr>\n",
       "    <tr>\n",
       "      <th>25%</th>\n",
       "      <td>24.866250</td>\n",
       "      <td>25.745000</td>\n",
       "      <td>28.572500</td>\n",
       "      <td>26.900000</td>\n",
       "    </tr>\n",
       "    <tr>\n",
       "      <th>50%</th>\n",
       "      <td>28.880000</td>\n",
       "      <td>28.880000</td>\n",
       "      <td>33.330000</td>\n",
       "      <td>30.300000</td>\n",
       "    </tr>\n",
       "    <tr>\n",
       "      <th>75%</th>\n",
       "      <td>32.893750</td>\n",
       "      <td>32.775000</td>\n",
       "      <td>37.812500</td>\n",
       "      <td>34.600000</td>\n",
       "    </tr>\n",
       "    <tr>\n",
       "      <th>max</th>\n",
       "      <td>48.070000</td>\n",
       "      <td>42.940000</td>\n",
       "      <td>53.130000</td>\n",
       "      <td>47.600000</td>\n",
       "    </tr>\n",
       "    <tr>\n",
       "      <th rowspan=\"8\" valign=\"top\">children</th>\n",
       "      <th>count</th>\n",
       "      <td>324.000000</td>\n",
       "      <td>325.000000</td>\n",
       "      <td>364.000000</td>\n",
       "      <td>325.000000</td>\n",
       "    </tr>\n",
       "    <tr>\n",
       "      <th>mean</th>\n",
       "      <td>1.046296</td>\n",
       "      <td>1.147692</td>\n",
       "      <td>1.049451</td>\n",
       "      <td>1.141538</td>\n",
       "    </tr>\n",
       "    <tr>\n",
       "      <th>std</th>\n",
       "      <td>1.198949</td>\n",
       "      <td>1.171828</td>\n",
       "      <td>1.177276</td>\n",
       "      <td>1.275952</td>\n",
       "    </tr>\n",
       "    <tr>\n",
       "      <th>min</th>\n",
       "      <td>0.000000</td>\n",
       "      <td>0.000000</td>\n",
       "      <td>0.000000</td>\n",
       "      <td>0.000000</td>\n",
       "    </tr>\n",
       "    <tr>\n",
       "      <th>25%</th>\n",
       "      <td>0.000000</td>\n",
       "      <td>0.000000</td>\n",
       "      <td>0.000000</td>\n",
       "      <td>0.000000</td>\n",
       "    </tr>\n",
       "    <tr>\n",
       "      <th>50%</th>\n",
       "      <td>1.000000</td>\n",
       "      <td>1.000000</td>\n",
       "      <td>1.000000</td>\n",
       "      <td>1.000000</td>\n",
       "    </tr>\n",
       "    <tr>\n",
       "      <th>75%</th>\n",
       "      <td>2.000000</td>\n",
       "      <td>2.000000</td>\n",
       "      <td>2.000000</td>\n",
       "      <td>2.000000</td>\n",
       "    </tr>\n",
       "    <tr>\n",
       "      <th>max</th>\n",
       "      <td>5.000000</td>\n",
       "      <td>5.000000</td>\n",
       "      <td>5.000000</td>\n",
       "      <td>5.000000</td>\n",
       "    </tr>\n",
       "    <tr>\n",
       "      <th rowspan=\"8\" valign=\"top\">charges</th>\n",
       "      <th>count</th>\n",
       "      <td>324.000000</td>\n",
       "      <td>325.000000</td>\n",
       "      <td>364.000000</td>\n",
       "      <td>325.000000</td>\n",
       "    </tr>\n",
       "    <tr>\n",
       "      <th>mean</th>\n",
       "      <td>13406.384516</td>\n",
       "      <td>12417.575374</td>\n",
       "      <td>14735.411438</td>\n",
       "      <td>12346.937377</td>\n",
       "    </tr>\n",
       "    <tr>\n",
       "      <th>std</th>\n",
       "      <td>11255.803066</td>\n",
       "      <td>11072.276928</td>\n",
       "      <td>13971.098589</td>\n",
       "      <td>11557.179101</td>\n",
       "    </tr>\n",
       "    <tr>\n",
       "      <th>min</th>\n",
       "      <td>1694.796400</td>\n",
       "      <td>1621.340200</td>\n",
       "      <td>1121.873900</td>\n",
       "      <td>1241.565000</td>\n",
       "    </tr>\n",
       "    <tr>\n",
       "      <th>25%</th>\n",
       "      <td>5194.322288</td>\n",
       "      <td>4719.736550</td>\n",
       "      <td>4440.886200</td>\n",
       "      <td>4751.070000</td>\n",
       "    </tr>\n",
       "    <tr>\n",
       "      <th>50%</th>\n",
       "      <td>10057.652025</td>\n",
       "      <td>8965.795750</td>\n",
       "      <td>9294.131950</td>\n",
       "      <td>8798.593000</td>\n",
       "    </tr>\n",
       "    <tr>\n",
       "      <th>75%</th>\n",
       "      <td>16687.364100</td>\n",
       "      <td>14711.743800</td>\n",
       "      <td>19526.286900</td>\n",
       "      <td>13462.520000</td>\n",
       "    </tr>\n",
       "    <tr>\n",
       "      <th>max</th>\n",
       "      <td>58571.074480</td>\n",
       "      <td>60021.398970</td>\n",
       "      <td>63770.428010</td>\n",
       "      <td>52590.829390</td>\n",
       "    </tr>\n",
       "  </tbody>\n",
       "</table>\n",
       "</div>"
      ],
      "text/plain": [
       "region             northeast     northwest     southeast     southwest\n",
       "age      count    324.000000    325.000000    364.000000    325.000000\n",
       "         mean      39.268519     39.196923     38.939560     39.455385\n",
       "         std       14.069007     14.051646     14.164585     13.959886\n",
       "         min       18.000000     19.000000     18.000000     19.000000\n",
       "         25%       27.000000     26.000000     26.750000     27.000000\n",
       "         50%       39.500000     39.000000     39.000000     39.000000\n",
       "         75%       51.000000     51.000000     51.000000     51.000000\n",
       "         max       64.000000     64.000000     64.000000     64.000000\n",
       "bmi      count    324.000000    325.000000    364.000000    325.000000\n",
       "         mean      29.173503     29.199785     33.355989     30.596615\n",
       "         std        5.937513      5.136765      6.477648      5.691836\n",
       "         min       15.960000     17.385000     19.800000     17.400000\n",
       "         25%       24.866250     25.745000     28.572500     26.900000\n",
       "         50%       28.880000     28.880000     33.330000     30.300000\n",
       "         75%       32.893750     32.775000     37.812500     34.600000\n",
       "         max       48.070000     42.940000     53.130000     47.600000\n",
       "children count    324.000000    325.000000    364.000000    325.000000\n",
       "         mean       1.046296      1.147692      1.049451      1.141538\n",
       "         std        1.198949      1.171828      1.177276      1.275952\n",
       "         min        0.000000      0.000000      0.000000      0.000000\n",
       "         25%        0.000000      0.000000      0.000000      0.000000\n",
       "         50%        1.000000      1.000000      1.000000      1.000000\n",
       "         75%        2.000000      2.000000      2.000000      2.000000\n",
       "         max        5.000000      5.000000      5.000000      5.000000\n",
       "charges  count    324.000000    325.000000    364.000000    325.000000\n",
       "         mean   13406.384516  12417.575374  14735.411438  12346.937377\n",
       "         std    11255.803066  11072.276928  13971.098589  11557.179101\n",
       "         min     1694.796400   1621.340200   1121.873900   1241.565000\n",
       "         25%     5194.322288   4719.736550   4440.886200   4751.070000\n",
       "         50%    10057.652025   8965.795750   9294.131950   8798.593000\n",
       "         75%    16687.364100  14711.743800  19526.286900  13462.520000\n",
       "         max    58571.074480  60021.398970  63770.428010  52590.829390"
      ]
     },
     "execution_count": 15,
     "metadata": {},
     "output_type": "execute_result"
    }
   ],
   "source": [
    "df.groupby(by='region').describe().T"
   ]
  },
  {
   "cell_type": "markdown",
   "metadata": {},
   "source": [
    "#### Distributions Of Feature Values"
   ]
  },
  {
   "cell_type": "code",
   "execution_count": 16,
   "metadata": {},
   "outputs": [
    {
     "data": {
      "image/png": "[encoded data removed]",
      "text/plain": [
       "<Figure size 720x720 with 4 Axes>"
      ]
     },
     "metadata": {
      "needs_background": "light"
     },
     "output_type": "display_data"
    }
   ],
   "source": [
    "fig, axes = plt.subplots(nrows = 2, ncols = 2)    \n",
    "axes = axes.flatten()         \n",
    "fig.set_size_inches(10, 10)\n",
    "\n",
    "for ax, col in zip(axes, numeric_cols):\n",
    "  sns.distplot(df[col], ax = ax)\n",
    "  ax.set_title(col)"
   ]
  },
  {
   "cell_type": "code",
   "execution_count": 17,
   "metadata": {},
   "outputs": [
    {
     "data": {
      "text/html": [
       "<div>\n",
       "<style scoped>\n",
       "    .dataframe tbody tr th:only-of-type {\n",
       "        vertical-align: middle;\n",
       "    }\n",
       "\n",
       "    .dataframe tbody tr th {\n",
       "        vertical-align: top;\n",
       "    }\n",
       "\n",
       "    .dataframe thead th {\n",
       "        text-align: right;\n",
       "    }\n",
       "</style>\n",
       "<table border=\"1\" class=\"dataframe\">\n",
       "  <thead>\n",
       "    <tr style=\"text-align: right;\">\n",
       "      <th></th>\n",
       "      <th>age</th>\n",
       "      <th>sex</th>\n",
       "      <th>bmi</th>\n",
       "      <th>children</th>\n",
       "      <th>smoker</th>\n",
       "      <th>region</th>\n",
       "      <th>charges</th>\n",
       "      <th>weight_status</th>\n",
       "      <th>age_group</th>\n",
       "    </tr>\n",
       "  </thead>\n",
       "  <tbody>\n",
       "    <tr>\n",
       "      <th>543</th>\n",
       "      <td>54</td>\n",
       "      <td>female</td>\n",
       "      <td>47.410</td>\n",
       "      <td>0</td>\n",
       "      <td>yes</td>\n",
       "      <td>southeast</td>\n",
       "      <td>63770.42801</td>\n",
       "      <td>3.Obese</td>\n",
       "      <td>45-54</td>\n",
       "    </tr>\n",
       "    <tr>\n",
       "      <th>1300</th>\n",
       "      <td>45</td>\n",
       "      <td>male</td>\n",
       "      <td>30.360</td>\n",
       "      <td>0</td>\n",
       "      <td>yes</td>\n",
       "      <td>southeast</td>\n",
       "      <td>62592.87309</td>\n",
       "      <td>3.Obese</td>\n",
       "      <td>45-54</td>\n",
       "    </tr>\n",
       "    <tr>\n",
       "      <th>1230</th>\n",
       "      <td>52</td>\n",
       "      <td>male</td>\n",
       "      <td>34.485</td>\n",
       "      <td>3</td>\n",
       "      <td>yes</td>\n",
       "      <td>northwest</td>\n",
       "      <td>60021.39897</td>\n",
       "      <td>3.Obese</td>\n",
       "      <td>45-54</td>\n",
       "    </tr>\n",
       "    <tr>\n",
       "      <th>577</th>\n",
       "      <td>31</td>\n",
       "      <td>female</td>\n",
       "      <td>38.095</td>\n",
       "      <td>1</td>\n",
       "      <td>yes</td>\n",
       "      <td>northeast</td>\n",
       "      <td>58571.07448</td>\n",
       "      <td>3.Obese</td>\n",
       "      <td>19-34</td>\n",
       "    </tr>\n",
       "    <tr>\n",
       "      <th>819</th>\n",
       "      <td>33</td>\n",
       "      <td>female</td>\n",
       "      <td>35.530</td>\n",
       "      <td>0</td>\n",
       "      <td>yes</td>\n",
       "      <td>northwest</td>\n",
       "      <td>55135.40209</td>\n",
       "      <td>3.Obese</td>\n",
       "      <td>19-34</td>\n",
       "    </tr>\n",
       "    <tr>\n",
       "      <th>1146</th>\n",
       "      <td>60</td>\n",
       "      <td>male</td>\n",
       "      <td>32.800</td>\n",
       "      <td>0</td>\n",
       "      <td>yes</td>\n",
       "      <td>southwest</td>\n",
       "      <td>52590.82939</td>\n",
       "      <td>3.Obese</td>\n",
       "      <td>55-64</td>\n",
       "    </tr>\n",
       "    <tr>\n",
       "      <th>34</th>\n",
       "      <td>28</td>\n",
       "      <td>male</td>\n",
       "      <td>36.400</td>\n",
       "      <td>1</td>\n",
       "      <td>yes</td>\n",
       "      <td>southwest</td>\n",
       "      <td>51194.55914</td>\n",
       "      <td>3.Obese</td>\n",
       "      <td>19-34</td>\n",
       "    </tr>\n",
       "  </tbody>\n",
       "</table>\n",
       "</div>"
      ],
      "text/plain": [
       "      age     sex     bmi  children smoker     region      charges  \\\n",
       "543    54  female  47.410         0    yes  southeast  63770.42801   \n",
       "1300   45    male  30.360         0    yes  southeast  62592.87309   \n",
       "1230   52    male  34.485         3    yes  northwest  60021.39897   \n",
       "577    31  female  38.095         1    yes  northeast  58571.07448   \n",
       "819    33  female  35.530         0    yes  northwest  55135.40209   \n",
       "1146   60    male  32.800         0    yes  southwest  52590.82939   \n",
       "34     28    male  36.400         1    yes  southwest  51194.55914   \n",
       "\n",
       "     weight_status age_group  \n",
       "543        3.Obese     45-54  \n",
       "1300       3.Obese     45-54  \n",
       "1230       3.Obese     45-54  \n",
       "577        3.Obese     19-34  \n",
       "819        3.Obese     19-34  \n",
       "1146       3.Obese     55-64  \n",
       "34         3.Obese     19-34  "
      ]
     },
     "execution_count": 17,
     "metadata": {},
     "output_type": "execute_result"
    }
   ],
   "source": [
    "# Let's see the record that has the insurance charge more than $50,000\n",
    "df[df['charges'] > 50000].sort_values(['charges'], ascending=False)"
   ]
  },
  {
   "cell_type": "code",
   "execution_count": 18,
   "metadata": {},
   "outputs": [
    {
     "name": "stdout",
     "output_type": "stream",
     "text": [
      "There are 79 of people who has insurance charge more than $40,000\n",
      "79/79 of people who has insurance charge more than $40,000 are smokers\n"
     ]
    }
   ],
   "source": [
    "# let's check people who has charge more than $40,000\n",
    "df_40000 = df[df['charges'] > 40000].sort_values(['charges'], ascending=False)\n",
    "\n",
    "print(f\"There are {len(df_40000)} of people who has insurance charge more than $40,000\")\n",
    "print(f\"{len(df_40000[df_40000['smoker'] == 'yes'])}/{len(df_40000)} of people who has insurance charge more than $40,000 are smokers\")"
   ]
  },
  {
   "cell_type": "markdown",
   "metadata": {},
   "source": [
    "All the people have the charge more than $40,000 are smoker."
   ]
  },
  {
   "cell_type": "markdown",
   "metadata": {},
   "source": [
    "#### Distributions Of Charges Group by Smoking Status"
   ]
  },
  {
   "cell_type": "code",
   "execution_count": 19,
   "metadata": {},
   "outputs": [
    {
     "data": {
      "text/plain": [
       "Text(0, 0.5, 'Number of people')"
      ]
     },
     "execution_count": 19,
     "metadata": {},
     "output_type": "execute_result"
    },
    {
     "data": {
      "image/png": "[encoded data removed]",
      "text/plain": [
       "<Figure size 432x288 with 1 Axes>"
      ]
     },
     "metadata": {
      "needs_background": "light"
     },
     "output_type": "display_data"
    }
   ],
   "source": [
    "df.groupby('smoker')['charges'].hist(alpha=0.7, legend = True)\n",
    "plt.title('Distribution of Charges by Smoking Status')\n",
    "plt.xlabel('Charges ($)')\n",
    "plt.ylabel('Number of people')"
   ]
  },
  {
   "cell_type": "markdown",
   "metadata": {},
   "source": [
    "#### Distribution Of Charges Group by Number of Children"
   ]
  },
  {
   "cell_type": "code",
   "execution_count": 20,
   "metadata": {},
   "outputs": [
    {
     "data": {
      "text/plain": [
       "Text(0, 0.5, 'Number of people')"
      ]
     },
     "execution_count": 20,
     "metadata": {},
     "output_type": "execute_result"
    },
    {
     "data": {
      "image/png": "[encoded data removed]",
      "text/plain": [
       "<Figure size 432x288 with 1 Axes>"
      ]
     },
     "metadata": {
      "needs_background": "light"
     },
     "output_type": "display_data"
    }
   ],
   "source": [
    "df.groupby('children')['charges'].hist(alpha=0.7, legend = True)\n",
    "plt.title('Distribution of charges by Number of Children')\n",
    "plt.xlabel('Charges ($)')\n",
    "plt.ylabel('Number of people')"
   ]
  },
  {
   "cell_type": "markdown",
   "metadata": {},
   "source": [
    "#### Distribution Of Charges Group by Sex"
   ]
  },
  {
   "cell_type": "code",
   "execution_count": 21,
   "metadata": {},
   "outputs": [
    {
     "data": {
      "text/plain": [
       "Text(0, 0.5, 'Number of people')"
      ]
     },
     "execution_count": 21,
     "metadata": {},
     "output_type": "execute_result"
    },
    {
     "data": {
      "image/png": "[encoded data removed]",
      "text/plain": [
       "<Figure size 432x288 with 1 Axes>"
      ]
     },
     "metadata": {
      "needs_background": "light"
     },
     "output_type": "display_data"
    }
   ],
   "source": [
    "df.groupby('sex')['charges'].hist(alpha=0.7, legend = True)\n",
    "plt.title('Distribution of charges by sex')\n",
    "plt.xlabel('Charges ($)')\n",
    "plt.ylabel('Number of people')"
   ]
  },
  {
   "cell_type": "code",
   "execution_count": 22,
   "metadata": {},
   "outputs": [
    {
     "data": {
      "text/html": [
       "<div>\n",
       "<style scoped>\n",
       "    .dataframe tbody tr th:only-of-type {\n",
       "        vertical-align: middle;\n",
       "    }\n",
       "\n",
       "    .dataframe tbody tr th {\n",
       "        vertical-align: top;\n",
       "    }\n",
       "\n",
       "    .dataframe thead th {\n",
       "        text-align: right;\n",
       "    }\n",
       "</style>\n",
       "<table border=\"1\" class=\"dataframe\">\n",
       "  <thead>\n",
       "    <tr style=\"text-align: right;\">\n",
       "      <th></th>\n",
       "      <th>age</th>\n",
       "      <th>sex</th>\n",
       "      <th>bmi</th>\n",
       "      <th>children</th>\n",
       "      <th>smoker</th>\n",
       "      <th>region</th>\n",
       "      <th>charges</th>\n",
       "      <th>weight_status</th>\n",
       "      <th>age_group</th>\n",
       "    </tr>\n",
       "  </thead>\n",
       "  <tbody>\n",
       "    <tr>\n",
       "      <th>0</th>\n",
       "      <td>19</td>\n",
       "      <td>female</td>\n",
       "      <td>27.900</td>\n",
       "      <td>0</td>\n",
       "      <td>yes</td>\n",
       "      <td>southwest</td>\n",
       "      <td>16884.92400</td>\n",
       "      <td>2.Overweight</td>\n",
       "      <td>19-34</td>\n",
       "    </tr>\n",
       "    <tr>\n",
       "      <th>1</th>\n",
       "      <td>18</td>\n",
       "      <td>male</td>\n",
       "      <td>33.770</td>\n",
       "      <td>1</td>\n",
       "      <td>no</td>\n",
       "      <td>southeast</td>\n",
       "      <td>1725.55230</td>\n",
       "      <td>3.Obese</td>\n",
       "      <td>18-19</td>\n",
       "    </tr>\n",
       "    <tr>\n",
       "      <th>2</th>\n",
       "      <td>28</td>\n",
       "      <td>male</td>\n",
       "      <td>33.000</td>\n",
       "      <td>3</td>\n",
       "      <td>no</td>\n",
       "      <td>southeast</td>\n",
       "      <td>4449.46200</td>\n",
       "      <td>3.Obese</td>\n",
       "      <td>19-34</td>\n",
       "    </tr>\n",
       "    <tr>\n",
       "      <th>3</th>\n",
       "      <td>33</td>\n",
       "      <td>male</td>\n",
       "      <td>22.705</td>\n",
       "      <td>0</td>\n",
       "      <td>no</td>\n",
       "      <td>northwest</td>\n",
       "      <td>21984.47061</td>\n",
       "      <td>1.Normal</td>\n",
       "      <td>19-34</td>\n",
       "    </tr>\n",
       "    <tr>\n",
       "      <th>4</th>\n",
       "      <td>32</td>\n",
       "      <td>male</td>\n",
       "      <td>28.880</td>\n",
       "      <td>0</td>\n",
       "      <td>no</td>\n",
       "      <td>northwest</td>\n",
       "      <td>3866.85520</td>\n",
       "      <td>2.Overweight</td>\n",
       "      <td>19-34</td>\n",
       "    </tr>\n",
       "  </tbody>\n",
       "</table>\n",
       "</div>"
      ],
      "text/plain": [
       "   age     sex     bmi  children smoker     region      charges weight_status  \\\n",
       "0   19  female  27.900         0    yes  southwest  16884.92400  2.Overweight   \n",
       "1   18    male  33.770         1     no  southeast   1725.55230       3.Obese   \n",
       "2   28    male  33.000         3     no  southeast   4449.46200       3.Obese   \n",
       "3   33    male  22.705         0     no  northwest  21984.47061      1.Normal   \n",
       "4   32    male  28.880         0     no  northwest   3866.85520  2.Overweight   \n",
       "\n",
       "  age_group  \n",
       "0     19-34  \n",
       "1     18-19  \n",
       "2     19-34  \n",
       "3     19-34  \n",
       "4     19-34  "
      ]
     },
     "execution_count": 22,
     "metadata": {},
     "output_type": "execute_result"
    }
   ],
   "source": [
    "df.head()"
   ]
  },
  {
   "cell_type": "markdown",
   "metadata": {},
   "source": [
    "#### Distribution Of Charges Group by Weight Status"
   ]
  },
  {
   "cell_type": "code",
   "execution_count": 23,
   "metadata": {},
   "outputs": [
    {
     "data": {
      "image/png": "[encoded data removed]",
      "text/plain": [
       "<Figure size 432x288 with 1 Axes>"
      ]
     },
     "metadata": {
      "needs_background": "light"
     },
     "output_type": "display_data"
    }
   ],
   "source": [
    "df.charges[df.weight_status == '0.Underweight'].hist(bins=30)\n",
    "plt.xlabel('Annual Insurance Cost ($)')\n",
    "plt.ylabel('Number of people')\n",
    "plt.title('Distribution of Insurance Cost of Underweight');"
   ]
  },
  {
   "cell_type": "code",
   "execution_count": 24,
   "metadata": {},
   "outputs": [
    {
     "data": {
      "image/png": "[encoded data removed]",
      "text/plain": [
       "<Figure size 432x288 with 1 Axes>"
      ]
     },
     "metadata": {
      "needs_background": "light"
     },
     "output_type": "display_data"
    }
   ],
   "source": [
    "df.charges[df.weight_status == '1.Normal'].hist(bins=30)\n",
    "plt.xlabel('Annual Insurance Cost ($)')\n",
    "plt.ylabel('Number of people')\n",
    "plt.title('Distribution of Insurance Cost of Normal weight');"
   ]
  },
  {
   "cell_type": "code",
   "execution_count": 25,
   "metadata": {},
   "outputs": [
    {
     "data": {
      "image/png": "[encoded data removed]",
      "text/plain": [
       "<Figure size 432x288 with 1 Axes>"
      ]
     },
     "metadata": {
      "needs_background": "light"
     },
     "output_type": "display_data"
    }
   ],
   "source": [
    "df.charges[df.weight_status == '2.Overweight'].hist(bins=30)\n",
    "plt.xlabel('Annual Insurance Cost ($)')\n",
    "plt.ylabel('Number of people')\n",
    "plt.title('Distribution of Insurance Cost of Overweight');"
   ]
  },
  {
   "cell_type": "code",
   "execution_count": 26,
   "metadata": {},
   "outputs": [
    {
     "data": {
      "image/png": "[encoded data removed]",
      "text/plain": [
       "<Figure size 432x288 with 1 Axes>"
      ]
     },
     "metadata": {
      "needs_background": "light"
     },
     "output_type": "display_data"
    }
   ],
   "source": [
    "df.charges[df.weight_status == '3.Obese'].hist(bins=30)\n",
    "plt.xlabel('Annual Insurance Cost ($)')\n",
    "plt.ylabel('Number of people')\n",
    "plt.title('Distribution of Insurance Cost of Obese');"
   ]
  },
  {
   "cell_type": "markdown",
   "metadata": {},
   "source": [
    "# Save clean file"
   ]
  },
  {
   "cell_type": "code",
   "execution_count": 27,
   "metadata": {},
   "outputs": [
    {
     "data": {
      "text/html": [
       "<div>\n",
       "<style scoped>\n",
       "    .dataframe tbody tr th:only-of-type {\n",
       "        vertical-align: middle;\n",
       "    }\n",
       "\n",
       "    .dataframe tbody tr th {\n",
       "        vertical-align: top;\n",
       "    }\n",
       "\n",
       "    .dataframe thead th {\n",
       "        text-align: right;\n",
       "    }\n",
       "</style>\n",
       "<table border=\"1\" class=\"dataframe\">\n",
       "  <thead>\n",
       "    <tr style=\"text-align: right;\">\n",
       "      <th></th>\n",
       "      <th>age</th>\n",
       "      <th>sex</th>\n",
       "      <th>bmi</th>\n",
       "      <th>children</th>\n",
       "      <th>smoker</th>\n",
       "      <th>region</th>\n",
       "      <th>charges</th>\n",
       "      <th>weight_status</th>\n",
       "      <th>age_group</th>\n",
       "    </tr>\n",
       "  </thead>\n",
       "  <tbody>\n",
       "    <tr>\n",
       "      <th>0</th>\n",
       "      <td>19</td>\n",
       "      <td>female</td>\n",
       "      <td>27.900</td>\n",
       "      <td>0</td>\n",
       "      <td>yes</td>\n",
       "      <td>southwest</td>\n",
       "      <td>16884.92400</td>\n",
       "      <td>2.Overweight</td>\n",
       "      <td>19-34</td>\n",
       "    </tr>\n",
       "    <tr>\n",
       "      <th>1</th>\n",
       "      <td>18</td>\n",
       "      <td>male</td>\n",
       "      <td>33.770</td>\n",
       "      <td>1</td>\n",
       "      <td>no</td>\n",
       "      <td>southeast</td>\n",
       "      <td>1725.55230</td>\n",
       "      <td>3.Obese</td>\n",
       "      <td>18-19</td>\n",
       "    </tr>\n",
       "    <tr>\n",
       "      <th>2</th>\n",
       "      <td>28</td>\n",
       "      <td>male</td>\n",
       "      <td>33.000</td>\n",
       "      <td>3</td>\n",
       "      <td>no</td>\n",
       "      <td>southeast</td>\n",
       "      <td>4449.46200</td>\n",
       "      <td>3.Obese</td>\n",
       "      <td>19-34</td>\n",
       "    </tr>\n",
       "    <tr>\n",
       "      <th>3</th>\n",
       "      <td>33</td>\n",
       "      <td>male</td>\n",
       "      <td>22.705</td>\n",
       "      <td>0</td>\n",
       "      <td>no</td>\n",
       "      <td>northwest</td>\n",
       "      <td>21984.47061</td>\n",
       "      <td>1.Normal</td>\n",
       "      <td>19-34</td>\n",
       "    </tr>\n",
       "    <tr>\n",
       "      <th>4</th>\n",
       "      <td>32</td>\n",
       "      <td>male</td>\n",
       "      <td>28.880</td>\n",
       "      <td>0</td>\n",
       "      <td>no</td>\n",
       "      <td>northwest</td>\n",
       "      <td>3866.85520</td>\n",
       "      <td>2.Overweight</td>\n",
       "      <td>19-34</td>\n",
       "    </tr>\n",
       "  </tbody>\n",
       "</table>\n",
       "</div>"
      ],
      "text/plain": [
       "   age     sex     bmi  children smoker     region      charges weight_status  \\\n",
       "0   19  female  27.900         0    yes  southwest  16884.92400  2.Overweight   \n",
       "1   18    male  33.770         1     no  southeast   1725.55230       3.Obese   \n",
       "2   28    male  33.000         3     no  southeast   4449.46200       3.Obese   \n",
       "3   33    male  22.705         0     no  northwest  21984.47061      1.Normal   \n",
       "4   32    male  28.880         0     no  northwest   3866.85520  2.Overweight   \n",
       "\n",
       "  age_group  \n",
       "0     19-34  \n",
       "1     18-19  \n",
       "2     19-34  \n",
       "3     19-34  \n",
       "4     19-34  "
      ]
     },
     "execution_count": 27,
     "metadata": {},
     "output_type": "execute_result"
    }
   ],
   "source": [
    "df.head()"
   ]
  },
  {
   "cell_type": "code",
   "execution_count": 28,
   "metadata": {},
   "outputs": [
    {
     "name": "stdout",
     "output_type": "stream",
     "text": [
      "File exist, replacing with new file\n"
     ]
    }
   ],
   "source": [
    "# Save Clean dataframe as a file\n",
    "\n",
    "if os.path.isfile('clean_medical_insurance_cost.csv'):\n",
    "    df.to_csv(\"clean_medical_insurance_cost.csv\", index=False)\n",
    "    print (\"File exist, replacing with new file\")\n",
    "else:\n",
    "    df.to_csv(\"clean_medical_insurance_cost.csv\", index=False)\n",
    "    print (\"File not exist, add new file\")"
   ]
  },
  {
   "cell_type": "code",
   "execution_count": null,
   "metadata": {},
   "outputs": [],
   "source": []
  }
 ],
 "metadata": {
  "kernelspec": {
   "display_name": "Python 3",
   "language": "python",
   "name": "python3"
  },
  "language_info": {
   "codemirror_mode": {
    "name": "ipython",
    "version": 3
   },
   "file_extension": ".py",
   "mimetype": "text/x-python",
   "name": "python",
   "nbconvert_exporter": "python",
   "pygments_lexer": "ipython3",
   "version": "3.8.3"
  }
 },
 "nbformat": 4,
 "nbformat_minor": 4
}
