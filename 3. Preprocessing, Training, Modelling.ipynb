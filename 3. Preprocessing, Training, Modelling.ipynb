{
 "cells": [
  {
   "cell_type": "markdown",
   "metadata": {},
   "source": [
    "# Import "
   ]
  },
  {
   "cell_type": "code",
   "execution_count": 1,
   "metadata": {},
   "outputs": [],
   "source": [
    "import numpy as np\n",
    "import pandas as pd\n",
    "import matplotlib.pyplot as plt\n",
    "\n",
    "from sklearn import decomposition\n",
    "from sklearn.dummy import DummyRegressor\n",
    "from sklearn.model_selection import train_test_split\n",
    "from sklearn.linear_model import LinearRegression, Lasso\n",
    "from sklearn.ensemble import RandomForestRegressor\n",
    "from sklearn.metrics import r2_score, mean_squared_error, mean_absolute_error\n",
    "from sklearn.pipeline import make_pipeline\n",
    "from sklearn.impute import SimpleImputer\n",
    "from sklearn.feature_selection import SelectKBest, f_regression\n",
    "from sklearn.preprocessing import scale\n",
    "from sklearn.model_selection import train_test_split, cross_validate, GridSearchCV, learning_curve, cross_val_score\n",
    "from sklearn.preprocessing import StandardScaler, MinMaxScaler\n",
    "from sklearn.ensemble import GradientBoostingRegressor"
   ]
  },
  {
   "cell_type": "code",
   "execution_count": 2,
   "metadata": {},
   "outputs": [
    {
     "data": {
      "text/html": [
       "<div>\n",
       "<style scoped>\n",
       "    .dataframe tbody tr th:only-of-type {\n",
       "        vertical-align: middle;\n",
       "    }\n",
       "\n",
       "    .dataframe tbody tr th {\n",
       "        vertical-align: top;\n",
       "    }\n",
       "\n",
       "    .dataframe thead th {\n",
       "        text-align: right;\n",
       "    }\n",
       "</style>\n",
       "<table border=\"1\" class=\"dataframe\">\n",
       "  <thead>\n",
       "    <tr style=\"text-align: right;\">\n",
       "      <th></th>\n",
       "      <th>age</th>\n",
       "      <th>sex</th>\n",
       "      <th>bmi</th>\n",
       "      <th>children</th>\n",
       "      <th>smoker</th>\n",
       "      <th>region</th>\n",
       "      <th>charges</th>\n",
       "      <th>weight_status</th>\n",
       "      <th>age_group</th>\n",
       "    </tr>\n",
       "  </thead>\n",
       "  <tbody>\n",
       "    <tr>\n",
       "      <th>0</th>\n",
       "      <td>19</td>\n",
       "      <td>female</td>\n",
       "      <td>27.900</td>\n",
       "      <td>0</td>\n",
       "      <td>yes</td>\n",
       "      <td>southwest</td>\n",
       "      <td>16884.92400</td>\n",
       "      <td>2.Overweight</td>\n",
       "      <td>19-34</td>\n",
       "    </tr>\n",
       "    <tr>\n",
       "      <th>1</th>\n",
       "      <td>18</td>\n",
       "      <td>male</td>\n",
       "      <td>33.770</td>\n",
       "      <td>1</td>\n",
       "      <td>no</td>\n",
       "      <td>southeast</td>\n",
       "      <td>1725.55230</td>\n",
       "      <td>3.Obese</td>\n",
       "      <td>18-19</td>\n",
       "    </tr>\n",
       "    <tr>\n",
       "      <th>2</th>\n",
       "      <td>28</td>\n",
       "      <td>male</td>\n",
       "      <td>33.000</td>\n",
       "      <td>3</td>\n",
       "      <td>no</td>\n",
       "      <td>southeast</td>\n",
       "      <td>4449.46200</td>\n",
       "      <td>3.Obese</td>\n",
       "      <td>19-34</td>\n",
       "    </tr>\n",
       "    <tr>\n",
       "      <th>3</th>\n",
       "      <td>33</td>\n",
       "      <td>male</td>\n",
       "      <td>22.705</td>\n",
       "      <td>0</td>\n",
       "      <td>no</td>\n",
       "      <td>northwest</td>\n",
       "      <td>21984.47061</td>\n",
       "      <td>1.Normal</td>\n",
       "      <td>19-34</td>\n",
       "    </tr>\n",
       "    <tr>\n",
       "      <th>4</th>\n",
       "      <td>32</td>\n",
       "      <td>male</td>\n",
       "      <td>28.880</td>\n",
       "      <td>0</td>\n",
       "      <td>no</td>\n",
       "      <td>northwest</td>\n",
       "      <td>3866.85520</td>\n",
       "      <td>2.Overweight</td>\n",
       "      <td>19-34</td>\n",
       "    </tr>\n",
       "  </tbody>\n",
       "</table>\n",
       "</div>"
      ],
      "text/plain": [
       "   age     sex     bmi  children smoker     region      charges weight_status  \\\n",
       "0   19  female  27.900         0    yes  southwest  16884.92400  2.Overweight   \n",
       "1   18    male  33.770         1     no  southeast   1725.55230       3.Obese   \n",
       "2   28    male  33.000         3     no  southeast   4449.46200       3.Obese   \n",
       "3   33    male  22.705         0     no  northwest  21984.47061      1.Normal   \n",
       "4   32    male  28.880         0     no  northwest   3866.85520  2.Overweight   \n",
       "\n",
       "  age_group  \n",
       "0     19-34  \n",
       "1     18-19  \n",
       "2     19-34  \n",
       "3     19-34  \n",
       "4     19-34  "
      ]
     },
     "execution_count": 2,
     "metadata": {},
     "output_type": "execute_result"
    }
   ],
   "source": [
    "clean_data = 'clean_medical_insurance_cost.csv'\n",
    "\n",
    "df = pd.read_csv(clean_data)\n",
    "df.head()"
   ]
  },
  {
   "cell_type": "markdown",
   "metadata": {},
   "source": [
    "# 1. Feature Engineer ( Create Dummy features)"
   ]
  },
  {
   "cell_type": "code",
   "execution_count": 3,
   "metadata": {},
   "outputs": [
    {
     "data": {
      "text/html": [
       "<div>\n",
       "<style scoped>\n",
       "    .dataframe tbody tr th:only-of-type {\n",
       "        vertical-align: middle;\n",
       "    }\n",
       "\n",
       "    .dataframe tbody tr th {\n",
       "        vertical-align: top;\n",
       "    }\n",
       "\n",
       "    .dataframe thead th {\n",
       "        text-align: right;\n",
       "    }\n",
       "</style>\n",
       "<table border=\"1\" class=\"dataframe\">\n",
       "  <thead>\n",
       "    <tr style=\"text-align: right;\">\n",
       "      <th></th>\n",
       "      <th>age</th>\n",
       "      <th>sex</th>\n",
       "      <th>bmi</th>\n",
       "      <th>children</th>\n",
       "      <th>smoker</th>\n",
       "      <th>region</th>\n",
       "      <th>charges</th>\n",
       "      <th>weight_status</th>\n",
       "      <th>age_group</th>\n",
       "    </tr>\n",
       "  </thead>\n",
       "  <tbody>\n",
       "    <tr>\n",
       "      <th>0</th>\n",
       "      <td>19</td>\n",
       "      <td>female</td>\n",
       "      <td>27.900</td>\n",
       "      <td>0</td>\n",
       "      <td>yes</td>\n",
       "      <td>southwest</td>\n",
       "      <td>16884.92400</td>\n",
       "      <td>2.Overweight</td>\n",
       "      <td>19-34</td>\n",
       "    </tr>\n",
       "    <tr>\n",
       "      <th>1</th>\n",
       "      <td>18</td>\n",
       "      <td>male</td>\n",
       "      <td>33.770</td>\n",
       "      <td>1</td>\n",
       "      <td>no</td>\n",
       "      <td>southeast</td>\n",
       "      <td>1725.55230</td>\n",
       "      <td>3.Obese</td>\n",
       "      <td>18-19</td>\n",
       "    </tr>\n",
       "    <tr>\n",
       "      <th>2</th>\n",
       "      <td>28</td>\n",
       "      <td>male</td>\n",
       "      <td>33.000</td>\n",
       "      <td>3</td>\n",
       "      <td>no</td>\n",
       "      <td>southeast</td>\n",
       "      <td>4449.46200</td>\n",
       "      <td>3.Obese</td>\n",
       "      <td>19-34</td>\n",
       "    </tr>\n",
       "    <tr>\n",
       "      <th>3</th>\n",
       "      <td>33</td>\n",
       "      <td>male</td>\n",
       "      <td>22.705</td>\n",
       "      <td>0</td>\n",
       "      <td>no</td>\n",
       "      <td>northwest</td>\n",
       "      <td>21984.47061</td>\n",
       "      <td>1.Normal</td>\n",
       "      <td>19-34</td>\n",
       "    </tr>\n",
       "    <tr>\n",
       "      <th>4</th>\n",
       "      <td>32</td>\n",
       "      <td>male</td>\n",
       "      <td>28.880</td>\n",
       "      <td>0</td>\n",
       "      <td>no</td>\n",
       "      <td>northwest</td>\n",
       "      <td>3866.85520</td>\n",
       "      <td>2.Overweight</td>\n",
       "      <td>19-34</td>\n",
       "    </tr>\n",
       "  </tbody>\n",
       "</table>\n",
       "</div>"
      ],
      "text/plain": [
       "   age     sex     bmi  children smoker     region      charges weight_status  \\\n",
       "0   19  female  27.900         0    yes  southwest  16884.92400  2.Overweight   \n",
       "1   18    male  33.770         1     no  southeast   1725.55230       3.Obese   \n",
       "2   28    male  33.000         3     no  southeast   4449.46200       3.Obese   \n",
       "3   33    male  22.705         0     no  northwest  21984.47061      1.Normal   \n",
       "4   32    male  28.880         0     no  northwest   3866.85520  2.Overweight   \n",
       "\n",
       "  age_group  \n",
       "0     19-34  \n",
       "1     18-19  \n",
       "2     19-34  \n",
       "3     19-34  \n",
       "4     19-34  "
      ]
     },
     "execution_count": 3,
     "metadata": {},
     "output_type": "execute_result"
    }
   ],
   "source": [
    "df.head()"
   ]
  },
  {
   "cell_type": "code",
   "execution_count": 4,
   "metadata": {},
   "outputs": [
    {
     "data": {
      "text/html": [
       "<div>\n",
       "<style scoped>\n",
       "    .dataframe tbody tr th:only-of-type {\n",
       "        vertical-align: middle;\n",
       "    }\n",
       "\n",
       "    .dataframe tbody tr th {\n",
       "        vertical-align: top;\n",
       "    }\n",
       "\n",
       "    .dataframe thead th {\n",
       "        text-align: right;\n",
       "    }\n",
       "</style>\n",
       "<table border=\"1\" class=\"dataframe\">\n",
       "  <thead>\n",
       "    <tr style=\"text-align: right;\">\n",
       "      <th></th>\n",
       "      <th>age</th>\n",
       "      <th>bmi</th>\n",
       "      <th>charges</th>\n",
       "      <th>sex_female</th>\n",
       "      <th>sex_male</th>\n",
       "      <th>smoker_no</th>\n",
       "      <th>smoker_yes</th>\n",
       "      <th>region_northeast</th>\n",
       "      <th>region_northwest</th>\n",
       "      <th>region_southeast</th>\n",
       "      <th>region_southwest</th>\n",
       "      <th>weight_status_0.Underweight</th>\n",
       "      <th>weight_status_1.Normal</th>\n",
       "      <th>weight_status_2.Overweight</th>\n",
       "      <th>weight_status_3.Obese</th>\n",
       "      <th>age_group_18-19</th>\n",
       "      <th>age_group_19-34</th>\n",
       "      <th>age_group_35-44</th>\n",
       "      <th>age_group_45-54</th>\n",
       "      <th>age_group_55-64</th>\n",
       "    </tr>\n",
       "  </thead>\n",
       "  <tbody>\n",
       "    <tr>\n",
       "      <th>0</th>\n",
       "      <td>19</td>\n",
       "      <td>27.900</td>\n",
       "      <td>16884.92400</td>\n",
       "      <td>1</td>\n",
       "      <td>0</td>\n",
       "      <td>0</td>\n",
       "      <td>1</td>\n",
       "      <td>0</td>\n",
       "      <td>0</td>\n",
       "      <td>0</td>\n",
       "      <td>1</td>\n",
       "      <td>0</td>\n",
       "      <td>0</td>\n",
       "      <td>1</td>\n",
       "      <td>0</td>\n",
       "      <td>0</td>\n",
       "      <td>1</td>\n",
       "      <td>0</td>\n",
       "      <td>0</td>\n",
       "      <td>0</td>\n",
       "    </tr>\n",
       "    <tr>\n",
       "      <th>1</th>\n",
       "      <td>18</td>\n",
       "      <td>33.770</td>\n",
       "      <td>1725.55230</td>\n",
       "      <td>0</td>\n",
       "      <td>1</td>\n",
       "      <td>1</td>\n",
       "      <td>0</td>\n",
       "      <td>0</td>\n",
       "      <td>0</td>\n",
       "      <td>1</td>\n",
       "      <td>0</td>\n",
       "      <td>0</td>\n",
       "      <td>0</td>\n",
       "      <td>0</td>\n",
       "      <td>1</td>\n",
       "      <td>1</td>\n",
       "      <td>0</td>\n",
       "      <td>0</td>\n",
       "      <td>0</td>\n",
       "      <td>0</td>\n",
       "    </tr>\n",
       "    <tr>\n",
       "      <th>2</th>\n",
       "      <td>28</td>\n",
       "      <td>33.000</td>\n",
       "      <td>4449.46200</td>\n",
       "      <td>0</td>\n",
       "      <td>1</td>\n",
       "      <td>1</td>\n",
       "      <td>0</td>\n",
       "      <td>0</td>\n",
       "      <td>0</td>\n",
       "      <td>1</td>\n",
       "      <td>0</td>\n",
       "      <td>0</td>\n",
       "      <td>0</td>\n",
       "      <td>0</td>\n",
       "      <td>1</td>\n",
       "      <td>0</td>\n",
       "      <td>1</td>\n",
       "      <td>0</td>\n",
       "      <td>0</td>\n",
       "      <td>0</td>\n",
       "    </tr>\n",
       "    <tr>\n",
       "      <th>3</th>\n",
       "      <td>33</td>\n",
       "      <td>22.705</td>\n",
       "      <td>21984.47061</td>\n",
       "      <td>0</td>\n",
       "      <td>1</td>\n",
       "      <td>1</td>\n",
       "      <td>0</td>\n",
       "      <td>0</td>\n",
       "      <td>1</td>\n",
       "      <td>0</td>\n",
       "      <td>0</td>\n",
       "      <td>0</td>\n",
       "      <td>1</td>\n",
       "      <td>0</td>\n",
       "      <td>0</td>\n",
       "      <td>0</td>\n",
       "      <td>1</td>\n",
       "      <td>0</td>\n",
       "      <td>0</td>\n",
       "      <td>0</td>\n",
       "    </tr>\n",
       "    <tr>\n",
       "      <th>4</th>\n",
       "      <td>32</td>\n",
       "      <td>28.880</td>\n",
       "      <td>3866.85520</td>\n",
       "      <td>0</td>\n",
       "      <td>1</td>\n",
       "      <td>1</td>\n",
       "      <td>0</td>\n",
       "      <td>0</td>\n",
       "      <td>1</td>\n",
       "      <td>0</td>\n",
       "      <td>0</td>\n",
       "      <td>0</td>\n",
       "      <td>0</td>\n",
       "      <td>1</td>\n",
       "      <td>0</td>\n",
       "      <td>0</td>\n",
       "      <td>1</td>\n",
       "      <td>0</td>\n",
       "      <td>0</td>\n",
       "      <td>0</td>\n",
       "    </tr>\n",
       "  </tbody>\n",
       "</table>\n",
       "</div>"
      ],
      "text/plain": [
       "   age     bmi      charges  sex_female  sex_male  smoker_no  smoker_yes  \\\n",
       "0   19  27.900  16884.92400           1         0          0           1   \n",
       "1   18  33.770   1725.55230           0         1          1           0   \n",
       "2   28  33.000   4449.46200           0         1          1           0   \n",
       "3   33  22.705  21984.47061           0         1          1           0   \n",
       "4   32  28.880   3866.85520           0         1          1           0   \n",
       "\n",
       "   region_northeast  region_northwest  region_southeast  region_southwest  \\\n",
       "0                 0                 0                 0                 1   \n",
       "1                 0                 0                 1                 0   \n",
       "2                 0                 0                 1                 0   \n",
       "3                 0                 1                 0                 0   \n",
       "4                 0                 1                 0                 0   \n",
       "\n",
       "   weight_status_0.Underweight  weight_status_1.Normal  \\\n",
       "0                            0                       0   \n",
       "1                            0                       0   \n",
       "2                            0                       0   \n",
       "3                            0                       1   \n",
       "4                            0                       0   \n",
       "\n",
       "   weight_status_2.Overweight  weight_status_3.Obese  age_group_18-19  \\\n",
       "0                           1                      0                0   \n",
       "1                           0                      1                1   \n",
       "2                           0                      1                0   \n",
       "3                           0                      0                0   \n",
       "4                           1                      0                0   \n",
       "\n",
       "   age_group_19-34  age_group_35-44  age_group_45-54  age_group_55-64  \n",
       "0                1                0                0                0  \n",
       "1                0                0                0                0  \n",
       "2                1                0                0                0  \n",
       "3                1                0                0                0  \n",
       "4                1                0                0                0  "
      ]
     },
     "execution_count": 4,
     "metadata": {},
     "output_type": "execute_result"
    }
   ],
   "source": [
    "def encode_and_concat(org_df, feature_to_encode):\n",
    "    '''\n",
    "    Convert a catergorical feature into one hot encode, \n",
    "    concat the encode columns to the original dataframe, and delete the categorical column\n",
    "    @return: a dataframe with one hot encode columns\n",
    "    '''\n",
    "    dummies = pd.get_dummies(org_df[[feature_to_encode]])\n",
    "    res = pd.concat([org_df, dummies], axis=1)\n",
    "    res = res.drop([feature_to_encode], axis=1)\n",
    "    return(res)\n",
    "\n",
    "features_to_encode = ['sex', 'smoker', 'children', 'region', 'weight_status', 'age_group']\n",
    "\n",
    "for feature in features_to_encode:\n",
    "    df = encode_and_concat(df, feature)\n",
    "    \n",
    "df.head()"
   ]
  },
  {
   "cell_type": "code",
   "execution_count": 5,
   "metadata": {},
   "outputs": [
    {
     "data": {
      "text/plain": [
       "age                            0\n",
       "bmi                            0\n",
       "charges                        0\n",
       "sex_female                     0\n",
       "sex_male                       0\n",
       "smoker_no                      0\n",
       "smoker_yes                     0\n",
       "region_northeast               0\n",
       "region_northwest               0\n",
       "region_southeast               0\n",
       "region_southwest               0\n",
       "weight_status_0.Underweight    0\n",
       "weight_status_1.Normal         0\n",
       "weight_status_2.Overweight     0\n",
       "weight_status_3.Obese          0\n",
       "age_group_18-19                0\n",
       "age_group_19-34                0\n",
       "age_group_35-44                0\n",
       "age_group_45-54                0\n",
       "age_group_55-64                0\n",
       "dtype: int64"
      ]
     },
     "execution_count": 5,
     "metadata": {},
     "output_type": "execute_result"
    }
   ],
   "source": [
    "df.isnull().sum()"
   ]
  },
  {
   "cell_type": "markdown",
   "metadata": {},
   "source": [
    "# 3. Train and Test Split"
   ]
  },
  {
   "cell_type": "code",
   "execution_count": 6,
   "metadata": {},
   "outputs": [
    {
     "name": "stdout",
     "output_type": "stream",
     "text": [
      "Shape of X_train = (1070, 19), X_test = (268, 19)\n",
      "Shape of y_train = (1070,), y_test = (268,)\n"
     ]
    }
   ],
   "source": [
    "# Target feature is 'charges', random state: to make sure return the same result everytime I run the code\n",
    "X = df.drop(columns='charges')     # return the new dataframe\n",
    "y = df.charges\n",
    "\n",
    "X_train, X_test, y_train, y_test = train_test_split(X, y, test_size=0.2, random_state=47)\n",
    "\n",
    "print(f'Shape of X_train = {X_train.shape}, X_test = {X_test.shape}')\n",
    "print(f'Shape of y_train = {y_train.shape}, y_test = {y_test.shape}')"
   ]
  },
  {
   "cell_type": "code",
   "execution_count": 7,
   "metadata": {},
   "outputs": [
    {
     "name": "stdout",
     "output_type": "stream",
     "text": [
      "age                              int64\n",
      "bmi                            float64\n",
      "sex_female                       uint8\n",
      "sex_male                         uint8\n",
      "smoker_no                        uint8\n",
      "smoker_yes                       uint8\n",
      "region_northeast                 uint8\n",
      "region_northwest                 uint8\n",
      "region_southeast                 uint8\n",
      "region_southwest                 uint8\n",
      "weight_status_0.Underweight      uint8\n",
      "weight_status_1.Normal           uint8\n",
      "weight_status_2.Overweight       uint8\n",
      "weight_status_3.Obese            uint8\n",
      "age_group_18-19                  uint8\n",
      "age_group_19-34                  uint8\n",
      "age_group_35-44                  uint8\n",
      "age_group_45-54                  uint8\n",
      "age_group_55-64                  uint8\n",
      "dtype: object\n",
      "age                              int64\n",
      "bmi                            float64\n",
      "sex_female                       uint8\n",
      "sex_male                         uint8\n",
      "smoker_no                        uint8\n",
      "smoker_yes                       uint8\n",
      "region_northeast                 uint8\n",
      "region_northwest                 uint8\n",
      "region_southeast                 uint8\n",
      "region_southwest                 uint8\n",
      "weight_status_0.Underweight      uint8\n",
      "weight_status_1.Normal           uint8\n",
      "weight_status_2.Overweight       uint8\n",
      "weight_status_3.Obese            uint8\n",
      "age_group_18-19                  uint8\n",
      "age_group_19-34                  uint8\n",
      "age_group_35-44                  uint8\n",
      "age_group_45-54                  uint8\n",
      "age_group_55-64                  uint8\n",
      "dtype: object\n"
     ]
    }
   ],
   "source": [
    "print(X_train.dtypes)\n",
    "print(X_test.dtypes)"
   ]
  },
  {
   "cell_type": "markdown",
   "metadata": {},
   "source": [
    "# 4. Modeling"
   ]
  },
  {
   "cell_type": "code",
   "execution_count": 8,
   "metadata": {},
   "outputs": [],
   "source": [
    "r2_results = {}\n",
    "mae_results = {}\n",
    "mse_results = {}\n",
    "rmse_results = {}"
   ]
  },
  {
   "cell_type": "markdown",
   "metadata": {},
   "source": [
    "# Not even a model"
   ]
  },
  {
   "cell_type": "code",
   "execution_count": 9,
   "metadata": {},
   "outputs": [
    {
     "name": "stdout",
     "output_type": "stream",
     "text": [
      "On the training set, the average medical insurance cost for each person is: 13313.097859830857\n"
     ]
    }
   ],
   "source": [
    "train_mean = y_train.mean()\n",
    "print(f'On the training set, the average medical insurance cost for each person is: {train_mean}')"
   ]
  },
  {
   "cell_type": "code",
   "execution_count": 10,
   "metadata": {},
   "outputs": [
    {
     "data": {
      "text/plain": [
       "array([[13313.09785983]])"
      ]
     },
     "execution_count": 10,
     "metadata": {},
     "output_type": "execute_result"
    }
   ],
   "source": [
    "dumb_reg = DummyRegressor(strategy='mean')\n",
    "dumb_reg.fit(X_train, y_train)\n",
    "dumb_reg.constant_"
   ]
  },
  {
   "cell_type": "markdown",
   "metadata": {},
   "source": [
    "### 3.1.1 R-square"
   ]
  },
  {
   "cell_type": "code",
   "execution_count": 11,
   "metadata": {},
   "outputs": [
    {
     "data": {
      "text/plain": [
       "(0.0, -0.0002965633114575539)"
      ]
     },
     "execution_count": 11,
     "metadata": {},
     "output_type": "execute_result"
    }
   ],
   "source": [
    "y_tr_pred = dumb_reg.predict(X_train)\n",
    "y_te_pred = dumb_reg.predict(X_test)\n",
    "\n",
    "r2_score(y_train, y_tr_pred), r2_score(y_test, y_te_pred)"
   ]
  },
  {
   "cell_type": "markdown",
   "metadata": {},
   "source": [
    "## 4.1 - Model 1: Linear Regression "
   ]
  },
  {
   "cell_type": "code",
   "execution_count": 12,
   "metadata": {},
   "outputs": [
    {
     "name": "stdout",
     "output_type": "stream",
     "text": [
      "The intercept: 4695.569873000928\n",
      "The slope: [   253.54647415    149.41059943    156.11107565   -156.11107565\n",
      " -11887.0447214   11887.0447214     308.06600589    504.09246533\n",
      "   -449.06561769   -363.09285353  -1459.29018313   -365.55318104\n",
      "   -468.96840064   2293.81176482   -310.91311519    266.18895643\n",
      "   -721.07137085     38.93079404    726.86473558]\n"
     ]
    }
   ],
   "source": [
    "# Train the linear regression model with training set\n",
    "reg = LinearRegression().fit(X_train, y_train)\n",
    "\n",
    "print(f'The intercept: {reg.intercept_}')\n",
    "print(f'The slope: {reg.coef_}')"
   ]
  },
  {
   "cell_type": "code",
   "execution_count": 13,
   "metadata": {},
   "outputs": [],
   "source": [
    "y_pred = reg.predict(X_test)"
   ]
  },
  {
   "cell_type": "code",
   "execution_count": 14,
   "metadata": {},
   "outputs": [
    {
     "data": {
      "text/html": [
       "<div>\n",
       "<style scoped>\n",
       "    .dataframe tbody tr th:only-of-type {\n",
       "        vertical-align: middle;\n",
       "    }\n",
       "\n",
       "    .dataframe tbody tr th {\n",
       "        vertical-align: top;\n",
       "    }\n",
       "\n",
       "    .dataframe thead th {\n",
       "        text-align: right;\n",
       "    }\n",
       "</style>\n",
       "<table border=\"1\" class=\"dataframe\">\n",
       "  <thead>\n",
       "    <tr style=\"text-align: right;\">\n",
       "      <th></th>\n",
       "      <th>Actual</th>\n",
       "      <th>Predicted</th>\n",
       "    </tr>\n",
       "  </thead>\n",
       "  <tbody>\n",
       "    <tr>\n",
       "      <th>1062</th>\n",
       "      <td>48970.24760</td>\n",
       "      <td>40104.108437</td>\n",
       "    </tr>\n",
       "    <tr>\n",
       "      <th>684</th>\n",
       "      <td>4766.02200</td>\n",
       "      <td>3633.308885</td>\n",
       "    </tr>\n",
       "    <tr>\n",
       "      <th>907</th>\n",
       "      <td>7633.72060</td>\n",
       "      <td>10076.294652</td>\n",
       "    </tr>\n",
       "    <tr>\n",
       "      <th>102</th>\n",
       "      <td>21344.84670</td>\n",
       "      <td>4318.937619</td>\n",
       "    </tr>\n",
       "    <tr>\n",
       "      <th>1067</th>\n",
       "      <td>5757.41345</td>\n",
       "      <td>10794.642086</td>\n",
       "    </tr>\n",
       "    <tr>\n",
       "      <th>...</th>\n",
       "      <td>...</td>\n",
       "      <td>...</td>\n",
       "    </tr>\n",
       "    <tr>\n",
       "      <th>1016</th>\n",
       "      <td>2709.24395</td>\n",
       "      <td>1862.995276</td>\n",
       "    </tr>\n",
       "    <tr>\n",
       "      <th>961</th>\n",
       "      <td>3353.28400</td>\n",
       "      <td>3621.346205</td>\n",
       "    </tr>\n",
       "    <tr>\n",
       "      <th>1312</th>\n",
       "      <td>4536.25900</td>\n",
       "      <td>9879.616780</td>\n",
       "    </tr>\n",
       "    <tr>\n",
       "      <th>856</th>\n",
       "      <td>40974.16490</td>\n",
       "      <td>35739.618317</td>\n",
       "    </tr>\n",
       "    <tr>\n",
       "      <th>60</th>\n",
       "      <td>8606.21740</td>\n",
       "      <td>6760.812699</td>\n",
       "    </tr>\n",
       "  </tbody>\n",
       "</table>\n",
       "<p>268 rows × 2 columns</p>\n",
       "</div>"
      ],
      "text/plain": [
       "           Actual     Predicted\n",
       "1062  48970.24760  40104.108437\n",
       "684    4766.02200   3633.308885\n",
       "907    7633.72060  10076.294652\n",
       "102   21344.84670   4318.937619\n",
       "1067   5757.41345  10794.642086\n",
       "...           ...           ...\n",
       "1016   2709.24395   1862.995276\n",
       "961    3353.28400   3621.346205\n",
       "1312   4536.25900   9879.616780\n",
       "856   40974.16490  35739.618317\n",
       "60     8606.21740   6760.812699\n",
       "\n",
       "[268 rows x 2 columns]"
      ]
     },
     "execution_count": 14,
     "metadata": {},
     "output_type": "execute_result"
    }
   ],
   "source": [
    "df = pd.DataFrame({'Actual': y_test, 'Predicted': y_pred})\n",
    "df"
   ]
  },
  {
   "cell_type": "code",
   "execution_count": 15,
   "metadata": {},
   "outputs": [
    {
     "data": {
      "image/png": "[encoded data removed]",
      "text/plain": [
       "<Figure size 1152x720 with 1 Axes>"
      ]
     },
     "metadata": {
      "needs_background": "light"
     },
     "output_type": "display_data"
    }
   ],
   "source": [
    "df1 = df.head(20)\n",
    "df1.plot(kind='bar',figsize=(16,10))\n",
    "plt.grid(linestyle='-', color='green')\n",
    "plt.show()"
   ]
  },
  {
   "cell_type": "code",
   "execution_count": 16,
   "metadata": {},
   "outputs": [
    {
     "name": "stdout",
     "output_type": "stream",
     "text": [
      "Mean Absolute Error: 3995.8392706925983\n",
      "Mean Squared Error: 30734573.72447429\n",
      "Root Mean Squared Error: 5543.877138291783\n",
      "R2_score  0.7992096604762513\n"
     ]
    }
   ],
   "source": [
    "print('Mean Absolute Error:', mean_absolute_error(y_test, y_pred))  \n",
    "print('Mean Squared Error:', mean_squared_error(y_test, y_pred))  \n",
    "print('Root Mean Squared Error:', np.sqrt(mean_squared_error(y_test, y_pred)))\n",
    "print('R2_score ', r2_score(y_test, y_pred))"
   ]
  },
  {
   "cell_type": "markdown",
   "metadata": {},
   "source": [
    "## Scale and use Linear Regression model"
   ]
  },
  {
   "cell_type": "markdown",
   "metadata": {},
   "source": [
    "### Default k = 'all'"
   ]
  },
  {
   "cell_type": "code",
   "execution_count": 17,
   "metadata": {},
   "outputs": [
    {
     "name": "stdout",
     "output_type": "stream",
     "text": [
      "0.7425423863678835 0.7992096604762515\n",
      "4302.923720000725 3995.8392706926\n"
     ]
    }
   ],
   "source": [
    "# Define the pipeline\n",
    "pipe = make_pipeline(\n",
    "            SimpleImputer(strategy='median'),\n",
    "            StandardScaler(),\n",
    "            SelectKBest(f_regression, k='all'),\n",
    "            LinearRegression()\n",
    "        )\n",
    "\n",
    "# Fit the pipeline\n",
    "pipe.fit(X_train, y_train)\n",
    "\n",
    "# Access performance on the train and test set\n",
    "y_tr_pred = pipe.predict(X_train)\n",
    "y_te_pred = pipe.predict(X_test)\n",
    "\n",
    "print(r2_score(y_train, y_tr_pred), r2_score(y_test, y_te_pred))\n",
    "print(mean_absolute_error(y_train, y_tr_pred), mean_absolute_error(y_test, y_te_pred))"
   ]
  },
  {
   "cell_type": "code",
   "execution_count": 18,
   "metadata": {},
   "outputs": [
    {
     "data": {
      "text/html": [
       "<div>\n",
       "<style scoped>\n",
       "    .dataframe tbody tr th:only-of-type {\n",
       "        vertical-align: middle;\n",
       "    }\n",
       "\n",
       "    .dataframe tbody tr th {\n",
       "        vertical-align: top;\n",
       "    }\n",
       "\n",
       "    .dataframe thead th {\n",
       "        text-align: right;\n",
       "    }\n",
       "</style>\n",
       "<table border=\"1\" class=\"dataframe\">\n",
       "  <thead>\n",
       "    <tr style=\"text-align: right;\">\n",
       "      <th></th>\n",
       "      <th>Actual</th>\n",
       "      <th>Predicted</th>\n",
       "    </tr>\n",
       "  </thead>\n",
       "  <tbody>\n",
       "    <tr>\n",
       "      <th>75</th>\n",
       "      <td>11356.6609</td>\n",
       "      <td>15710.786555</td>\n",
       "    </tr>\n",
       "    <tr>\n",
       "      <th>170</th>\n",
       "      <td>13405.3903</td>\n",
       "      <td>17393.510388</td>\n",
       "    </tr>\n",
       "    <tr>\n",
       "      <th>1049</th>\n",
       "      <td>39727.6140</td>\n",
       "      <td>35436.717980</td>\n",
       "    </tr>\n",
       "    <tr>\n",
       "      <th>955</th>\n",
       "      <td>3875.7341</td>\n",
       "      <td>8523.514450</td>\n",
       "    </tr>\n",
       "    <tr>\n",
       "      <th>564</th>\n",
       "      <td>2801.2588</td>\n",
       "      <td>3861.374248</td>\n",
       "    </tr>\n",
       "    <tr>\n",
       "      <th>...</th>\n",
       "      <td>...</td>\n",
       "      <td>...</td>\n",
       "    </tr>\n",
       "    <tr>\n",
       "      <th>691</th>\n",
       "      <td>8068.1850</td>\n",
       "      <td>11947.411766</td>\n",
       "    </tr>\n",
       "    <tr>\n",
       "      <th>584</th>\n",
       "      <td>1242.8160</td>\n",
       "      <td>100.139415</td>\n",
       "    </tr>\n",
       "    <tr>\n",
       "      <th>1288</th>\n",
       "      <td>38344.5660</td>\n",
       "      <td>29581.118487</td>\n",
       "    </tr>\n",
       "    <tr>\n",
       "      <th>327</th>\n",
       "      <td>42760.5022</td>\n",
       "      <td>36123.428547</td>\n",
       "    </tr>\n",
       "    <tr>\n",
       "      <th>1159</th>\n",
       "      <td>3989.8410</td>\n",
       "      <td>9415.806904</td>\n",
       "    </tr>\n",
       "  </tbody>\n",
       "</table>\n",
       "<p>1070 rows × 2 columns</p>\n",
       "</div>"
      ],
      "text/plain": [
       "          Actual     Predicted\n",
       "75    11356.6609  15710.786555\n",
       "170   13405.3903  17393.510388\n",
       "1049  39727.6140  35436.717980\n",
       "955    3875.7341   8523.514450\n",
       "564    2801.2588   3861.374248\n",
       "...          ...           ...\n",
       "691    8068.1850  11947.411766\n",
       "584    1242.8160    100.139415\n",
       "1288  38344.5660  29581.118487\n",
       "327   42760.5022  36123.428547\n",
       "1159   3989.8410   9415.806904\n",
       "\n",
       "[1070 rows x 2 columns]"
      ]
     },
     "execution_count": 18,
     "metadata": {},
     "output_type": "execute_result"
    }
   ],
   "source": [
    "df = pd.DataFrame({'Actual': y_train, 'Predicted': y_tr_pred})\n",
    "df"
   ]
  },
  {
   "cell_type": "markdown",
   "metadata": {},
   "source": [
    "### k = 3"
   ]
  },
  {
   "cell_type": "code",
   "execution_count": 19,
   "metadata": {},
   "outputs": [
    {
     "name": "stdout",
     "output_type": "stream",
     "text": [
      "0.7097027354527785 0.7649281843771802\n",
      "4205.787053519397 4005.8854751296935\n"
     ]
    }
   ],
   "source": [
    "# Define the pipeline\n",
    "pipe2 = make_pipeline(\n",
    "            StandardScaler(),\n",
    "            SelectKBest(f_regression, k=3),\n",
    "            LinearRegression()\n",
    "        )\n",
    "\n",
    "# Fit the pipeline\n",
    "pipe2.fit(X_train, y_train)\n",
    "\n",
    "# Access performance on the train and test set\n",
    "y_tr_pred2 = pipe2.predict(X_train)\n",
    "y_te_pred2 = pipe2.predict(X_test)\n",
    "\n",
    "print(r2_score(y_train, y_tr_pred2), r2_score(y_test, y_te_pred2))\n",
    "print(mean_absolute_error(y_train, y_tr_pred2), mean_absolute_error(y_test, y_te_pred2))"
   ]
  },
  {
   "cell_type": "code",
   "execution_count": 20,
   "metadata": {},
   "outputs": [
    {
     "data": {
      "text/plain": [
       "dict_keys(['memory', 'steps', 'verbose', 'simpleimputer', 'standardscaler', 'selectkbest', 'linearregression', 'simpleimputer__add_indicator', 'simpleimputer__copy', 'simpleimputer__fill_value', 'simpleimputer__missing_values', 'simpleimputer__strategy', 'simpleimputer__verbose', 'standardscaler__copy', 'standardscaler__with_mean', 'standardscaler__with_std', 'selectkbest__k', 'selectkbest__score_func', 'linearregression__copy_X', 'linearregression__fit_intercept', 'linearregression__n_jobs', 'linearregression__normalize'])"
      ]
     },
     "execution_count": 20,
     "metadata": {},
     "output_type": "execute_result"
    }
   ],
   "source": [
    "pipe.get_params().keys()"
   ]
  },
  {
   "cell_type": "code",
   "execution_count": 21,
   "metadata": {},
   "outputs": [],
   "source": [
    "k = [k+1 for k in range(len(X_train.columns))]\n",
    "grid_params = {'selectkbest__k': k}"
   ]
  },
  {
   "cell_type": "code",
   "execution_count": 22,
   "metadata": {},
   "outputs": [],
   "source": [
    "lr_grid_cv = GridSearchCV(pipe, param_grid=grid_params, cv=5, n_jobs=-1)"
   ]
  },
  {
   "cell_type": "code",
   "execution_count": 23,
   "metadata": {},
   "outputs": [
    {
     "data": {
      "text/plain": [
       "GridSearchCV(cv=5,\n",
       "             estimator=Pipeline(steps=[('simpleimputer',\n",
       "                                        SimpleImputer(strategy='median')),\n",
       "                                       ('standardscaler', StandardScaler()),\n",
       "                                       ('selectkbest',\n",
       "                                        SelectKBest(k='all',\n",
       "                                                    score_func=<function f_regression at 0x7f94e33980d0>)),\n",
       "                                       ('linearregression',\n",
       "                                        LinearRegression())]),\n",
       "             n_jobs=-1,\n",
       "             param_grid={'selectkbest__k': [1, 2, 3, 4, 5, 6, 7, 8, 9, 10, 11,\n",
       "                                            12, 13, 14, 15, 16, 17, 18, 19]})"
      ]
     },
     "execution_count": 23,
     "metadata": {},
     "output_type": "execute_result"
    }
   ],
   "source": [
    "lr_grid_cv.fit(X_train, y_train)"
   ]
  },
  {
   "cell_type": "code",
   "execution_count": 24,
   "metadata": {},
   "outputs": [
    {
     "data": {
      "text/plain": [
       "{'selectkbest__k': 7}"
      ]
     },
     "execution_count": 24,
     "metadata": {},
     "output_type": "execute_result"
    }
   ],
   "source": [
    "score_mean = lr_grid_cv.cv_results_['mean_test_score']\n",
    "score_std = lr_grid_cv.cv_results_['std_test_score']\n",
    "cv_k = [k for k in lr_grid_cv.cv_results_['param_selectkbest__k']]\n",
    "lr_grid_cv.best_params_"
   ]
  },
  {
   "cell_type": "code",
   "execution_count": 25,
   "metadata": {},
   "outputs": [
    {
     "data": {
      "image/png": "[encoded data removed]",
      "text/plain": [
       "<Figure size 720x360 with 1 Axes>"
      ]
     },
     "metadata": {
      "needs_background": "light"
     },
     "output_type": "display_data"
    }
   ],
   "source": [
    "best_k = lr_grid_cv.best_params_['selectkbest__k']\n",
    "plt.subplots(figsize=(10, 5))\n",
    "plt.errorbar(cv_k, score_mean, yerr=score_std)\n",
    "plt.axvline(x=best_k, c='r', ls='--', alpha=.5)\n",
    "plt.xlabel('k')\n",
    "plt.ylabel('CV score (r-squared)')\n",
    "plt.title('Linear Regression Pipeline mean CV score (error bars +/- 1sd)');"
   ]
  },
  {
   "cell_type": "markdown",
   "metadata": {},
   "source": [
    "## Linear regression pipeline with the best k "
   ]
  },
  {
   "cell_type": "code",
   "execution_count": 26,
   "metadata": {},
   "outputs": [
    {
     "name": "stdout",
     "output_type": "stream",
     "text": [
      "------------- Linear regression -------------\n",
      "Training set: \n",
      "\t r2_scorer_training_set = 0.7408681573218523\n",
      "\t Mean Absolute Error (train): 4303.9132956705935\n",
      "Testing set: \n",
      "\t r2_scorer_testing_set = 0.799771331443163\n",
      "\t Mean Absolute Error (test): 4008.447484364947\n",
      "Best paramaters: \n",
      "{'selectkbest__k': 7}\n",
      "\n",
      "[0.76775101 0.71201963 0.77482171 0.73235779 0.76130542]\n",
      "Mean:  0.7496511117670066\n",
      "Standard Deviation:  0.02371571661724404\n",
      "r_square score -->  0.799771331443163\n",
      "Mean Absolute Error --> 4008.447484364947\n",
      "Mean Squared Error --> 30648599.878409833\n",
      "Root Mean Squared Error --> 5536.117762332177\n"
     ]
    }
   ],
   "source": [
    "print('------------- Linear regression -------------')\n",
    "\n",
    "# Define the pipeline\n",
    "LR_pipe = LR_pipe = make_pipeline(\n",
    "            SimpleImputer(strategy='median'),\n",
    "            StandardScaler(), \n",
    "            SelectKBest(f_regression, k=7),\n",
    "            LinearRegression()\n",
    "            )\n",
    "\n",
    "# Fit the pipeline\n",
    "LR_pipe.fit(X_train, y_train)\n",
    "\n",
    "# Access performance on the train and test set\n",
    "y_tr_pred = LR_pipe.predict(X_train)\n",
    "y_te_pred = LR_pipe.predict(X_test)\n",
    "\n",
    "print(\"Training set: \")\n",
    "print(f\"\\t r2_scorer_training_set = {r2_score(y_train, y_tr_pred)}\")\n",
    "print(f\"\\t Mean Absolute Error (train): {mean_absolute_error(y_train, y_tr_pred)}\")\n",
    "print(\"Testing set: \")\n",
    "print(f\"\\t r2_scorer_testing_set = {r2_score(y_test, y_te_pred)}\")\n",
    "print(f\"\\t Mean Absolute Error (test): {mean_absolute_error(y_test, y_te_pred)}\")\n",
    "\n",
    "\n",
    "# Hyperparameter search using GridSearchCV, Set all the parameters options for different modules\n",
    "k = [k+1 for k in range(len(X_train.columns))]\n",
    "lr_params = {'selectkbest__k': k}\n",
    "\n",
    "lr_grid_cv = GridSearchCV(LR_pipe, param_grid=lr_params, cv=5, n_jobs=-1)\n",
    "lr_grid_cv.fit(X_train, y_train)\n",
    "print(f\"Best paramaters: \\n{lr_grid_cv.best_params_}\")\n",
    "\n",
    "\n",
    "\n",
    "# Cross Validation with GridSearch\n",
    "LR_Result = cross_val_score(lr_grid_cv, X, y, cv=5, n_jobs=-1, scoring=\"r2\")\n",
    "\n",
    "print()\n",
    "print(LR_Result)\n",
    "print('Mean: ', LR_Result.mean())\n",
    "print('Standard Deviation: ', LR_Result.std())\n",
    "\n",
    "\n",
    "# PREDICT\n",
    "lr_predict = lr_grid_cv.predict(X_test)\n",
    "score_lr = r2_score(y_test, lr_predict)\n",
    "\n",
    "print(\"r_square score --> \", score_lr)\n",
    "print('Mean Absolute Error -->', mean_absolute_error(y_test, lr_predict))\n",
    "print('Mean Squared Error -->', mean_squared_error(y_test, lr_predict))\n",
    "print('Root Mean Squared Error -->', np.sqrt(mean_squared_error(y_test, lr_predict)))\n",
    "\n",
    "r2_results['Linear Regression'] = r2_score(y_test, lr_predict)\n",
    "mae_results['Linear Regression'] = mean_absolute_error(y_test, lr_predict)\n",
    "mse_results['Linear Regression'] = mean_squared_error(y_test, lr_predict)\n",
    "rmse_results['Linear Regression'] = np.sqrt(mean_squared_error(y_test, lr_predict))"
   ]
  },
  {
   "cell_type": "markdown",
   "metadata": {},
   "source": [
    "#### Find the coef ~ Important Features for for linear regression model"
   ]
  },
  {
   "cell_type": "code",
   "execution_count": 27,
   "metadata": {},
   "outputs": [
    {
     "data": {
      "text/plain": [
       "smoker_yes               4761.258019\n",
       "age                      3802.543660\n",
       "weight_status_3.Obese    1387.002778\n",
       "bmi                       823.320057\n",
       "age_group_19-34           404.051919\n",
       "age_group_55-64           301.322419\n",
       "smoker_no               -4761.258019\n",
       "dtype: float64"
      ]
     },
     "execution_count": 27,
     "metadata": {},
     "output_type": "execute_result"
    }
   ],
   "source": [
    "selected = lr_grid_cv.best_estimator_.named_steps.selectkbest.get_support()\n",
    "\n",
    "coefs = lr_grid_cv.best_estimator_.named_steps.linearregression.coef_\n",
    "features = X_train.columns[selected]\n",
    "pd.Series(coefs, index=features).sort_values(ascending=False)"
   ]
  },
  {
   "cell_type": "markdown",
   "metadata": {},
   "source": [
    "## 4.2 Model 2 - Random Forest"
   ]
  },
  {
   "cell_type": "code",
   "execution_count": 28,
   "metadata": {},
   "outputs": [
    {
     "name": "stdout",
     "output_type": "stream",
     "text": [
      "------------- Random Forest -------------\n",
      "Training set: \n",
      "\t r2_scorer_training_set = 0.972800998812773\n",
      "\t Mean Absolute Error (train): 1101.8459259471122\n",
      "Testing set: \n",
      "\t r2_scorer_testing_set = 0.859919357056692\n",
      "\t Mean Absolute Error (test): 2750.8058201621134\n",
      "Best paramaters: \n",
      "{'randomforestregressor__n_estimators': 1000, 'simpleimputer__strategy': 'mean', 'standardscaler': StandardScaler()}\n",
      "\n",
      "[0.85160621 0.7654838  0.85330005 0.8159129  0.84961574]\n",
      "Mean:  0.8271837396255677\n",
      "Standard Deviation:  0.033810138097217356\n",
      "r_square score -->  0.8608328233026049\n",
      "Mean Absolute Error --> 2736.647823897792\n",
      "Mean Squared Error --> 21302040.04026366\n",
      "Root Mean Squared Error --> 4615.413311964992\n"
     ]
    }
   ],
   "source": [
    "print('------------- Random Forest -------------')\n",
    "\n",
    "# Define the pipeline\n",
    "RF_pipe = make_pipeline(SimpleImputer(strategy='median'),\n",
    "                        StandardScaler(),\n",
    "                        RandomForestRegressor(random_state=47)\n",
    "                        )\n",
    "\n",
    "# Fit the pipeline\n",
    "RF_pipe.fit(X_train, y_train)\n",
    "\n",
    "# Access performance on the train and test set\n",
    "y_tr_pred = RF_pipe.predict(X_train)\n",
    "y_te_pred = RF_pipe.predict(X_test)\n",
    "\n",
    "print(\"Training set: \")\n",
    "print(f\"\\t r2_scorer_training_set = {r2_score(y_train, y_tr_pred)}\")\n",
    "print(f\"\\t Mean Absolute Error (train): {mean_absolute_error(y_train, y_tr_pred)}\")\n",
    "print(\"Testing set: \")\n",
    "print(f\"\\t r2_scorer_testing_set = {r2_score(y_test, y_te_pred)}\")\n",
    "print(f\"\\t Mean Absolute Error (test): {mean_absolute_error(y_test, y_te_pred)}\")\n",
    "\n",
    "\n",
    "# Hyperparameter search using GridSearchCV, Set all the parameters options for different modules\n",
    "n_est = [int(n) for n in np.logspace(start=1, stop=3, num=20)]\n",
    "rf_params = {\n",
    "        'randomforestregressor__n_estimators': n_est,\n",
    "        'standardscaler': [StandardScaler(), None],\n",
    "        'simpleimputer__strategy': ['mean', 'median']\n",
    "}\n",
    "\n",
    "rf_grid_cv = GridSearchCV(RF_pipe, param_grid=rf_params, cv=5, n_jobs=-1)\n",
    "rf_grid_cv.fit(X_train, y_train)\n",
    "print(f\"Best paramaters: \\n{rf_grid_cv.best_params_}\")\n",
    "\n",
    "\n",
    "\n",
    "# Cross Validation with GridSearch\n",
    "RF_Result = cross_val_score(rf_grid_cv, X, y, cv=5, n_jobs=-1, scoring=\"r2\")\n",
    "\n",
    "print()\n",
    "print(RF_Result)\n",
    "print('Mean: ', RF_Result.mean())\n",
    "print('Standard Deviation: ', RF_Result.std())\n",
    "\n",
    "\n",
    "# PREDICT\n",
    "rf_predict = rf_grid_cv.predict(X_test)\n",
    "score_rf = r2_score(y_test, rf_predict)\n",
    "\n",
    "print(\"r_square score --> \",score_rf)\n",
    "print('Mean Absolute Error -->', mean_absolute_error(y_test, rf_predict))\n",
    "print('Mean Squared Error -->', mean_squared_error(y_test, rf_predict))\n",
    "print('Root Mean Squared Error -->', np.sqrt(mean_squared_error(y_test, rf_predict)))\n",
    "\n",
    "r2_results['Random Forest'] = r2_score(y_test, rf_predict)\n",
    "mae_results['Random Forest'] = mean_absolute_error(y_test, rf_predict)\n",
    "mse_results['Random Forest'] = mean_squared_error(y_test, rf_predict)\n",
    "rmse_results['Random Forest'] = np.sqrt(mean_squared_error(y_test, rf_predict))"
   ]
  },
  {
   "cell_type": "code",
   "execution_count": 29,
   "metadata": {},
   "outputs": [
    {
     "data": {
      "image/png": "[encoded data removed]",
      "text/plain": [
       "<Figure size 720x360 with 1 Axes>"
      ]
     },
     "metadata": {
      "needs_background": "light"
     },
     "output_type": "display_data"
    }
   ],
   "source": [
    "plt.subplots(figsize=(10, 5))\n",
    "imps = rf_grid_cv.best_estimator_.named_steps.randomforestregressor.feature_importances_\n",
    "rf_feat_imps = pd.Series(imps, index=X_train.columns).sort_values(ascending=False)\n",
    "rf_feat_imps.plot(kind='bar')\n",
    "plt.xlabel('features')\n",
    "plt.ylabel('importance')\n",
    "plt.title('Best random forest regressor feature importances');"
   ]
  },
  {
   "cell_type": "markdown",
   "metadata": {},
   "source": [
    "## Model 3:  LASSO Regression"
   ]
  },
  {
   "cell_type": "code",
   "execution_count": 30,
   "metadata": {},
   "outputs": [
    {
     "name": "stdout",
     "output_type": "stream",
     "text": [
      "------------- LASSO Regression -------------\n",
      "Training set: \n",
      "\t R_square score = 0.7425421043469583\n",
      "\t Mean Absolute Error : 4302.426571903459\n",
      "\t Mean Squared Error:  37305473.73937014\n",
      "\t Root Mean Squared Error:  6107.820702948813\n",
      "Testing set: \n",
      "\t R_square score = 0.7992775066820212\n",
      "\t Mean Absolute Error : 3994.71631380397\n",
      "\t Mean Squared Error:  30724188.642113727\n",
      "\t Root Mean Squared Error:  5542.940432849133\n",
      "Best paramaters: \n",
      "\t{'lasso__normalize': True, 'lasso__selection': 'random', 'pca__n_components': 16}\n",
      "\n",
      "[0.76281396 0.70687896 0.76828362 0.73913154 0.76224779]\n",
      "Mean:  0.7478711751685438\n",
      "Standard Deviation:  0.022818345695119313\n",
      "r_square score -->  0.7968570866938027\n",
      "Mean Absolute Error --> 4021.4518829875665\n",
      "Mean Squared Error --> 31094677.465174332\n",
      "Root Mean Squared Error --> 5576.260168354264\n"
     ]
    }
   ],
   "source": [
    "print('------------- LASSO Regression -------------')\n",
    "\n",
    "# Define the pipeline\n",
    "LASSO_pipe = make_pipeline(\n",
    "            SimpleImputer(strategy='median'),\n",
    "            StandardScaler(),\n",
    "            decomposition.PCA(), \n",
    "            Lasso()\n",
    "        )\n",
    "\n",
    "# Fit the pipeline\n",
    "LASSO_pipe.fit(X_train, y_train)\n",
    "\n",
    "# Access performance on the train and test set\n",
    "y_tr_pred = LASSO_pipe.predict(X_train)\n",
    "y_te_pred = LASSO_pipe.predict(X_test)\n",
    "\n",
    "print(\"Training set: \")\n",
    "print(f\"\\t R_square score = {r2_score(y_train, y_tr_pred)}\")\n",
    "print(f\"\\t Mean Absolute Error : {mean_absolute_error(y_train, y_tr_pred)}\")\n",
    "print(f'\\t Mean Squared Error: ', mean_squared_error(y_train, y_tr_pred))\n",
    "print(f'\\t Root Mean Squared Error: ', np.sqrt(mean_squared_error(y_train, y_tr_pred)))\n",
    "\n",
    "print(\"Testing set: \")\n",
    "print(f\"\\t R_square score = {r2_score(y_test, y_te_pred)}\")\n",
    "print(f\"\\t Mean Absolute Error : {mean_absolute_error(y_test, y_te_pred)}\")\n",
    "print(f'\\t Mean Squared Error: ', mean_squared_error(y_test, y_te_pred))\n",
    "print(f'\\t Root Mean Squared Error: ', np.sqrt(mean_squared_error(y_test, y_te_pred)))\n",
    "\n",
    "\n",
    "# Hyperparameter search using GridSearchCV, Set all the parameters options for different modules\n",
    "n_components = list(range(1,X.shape[1]+1,1))\n",
    "normalize = [True, False]\n",
    "selection = [\"cyclic\", \"random\"]\n",
    "                                    \n",
    "lasso_params = dict(pca__n_components=n_components,\n",
    "                  lasso__normalize=normalize,\n",
    "                  lasso__selection=selection)\n",
    "\n",
    "lasso_grid_cv = GridSearchCV(LASSO_pipe, param_grid=lasso_params, cv=5, n_jobs=-1)\n",
    "lasso_grid_cv.fit(X_train, y_train)\n",
    "print(f\"Best paramaters: \\n\\t{lasso_grid_cv.best_params_}\")\n",
    "\n",
    "\n",
    "# Cross Validation\n",
    "LASSO_Result = cross_val_score(lasso_grid_cv, X, y, cv=5, n_jobs=-1, scoring=\"r2\")\n",
    "\n",
    "print()\n",
    "print(LASSO_Result)\n",
    "print('Mean: ', LASSO_Result.mean())\n",
    "print('Standard Deviation: ', LASSO_Result.std())\n",
    "\n",
    "# PREDICT\n",
    "lasso_predict = lasso_grid_cv.predict(X_test)\n",
    "score_lasso = r2_score(y_test, lasso_predict)\n",
    "\n",
    "print(\"r_square score --> \",score_lasso)\n",
    "print('Mean Absolute Error -->', mean_absolute_error(y_test, lasso_predict))\n",
    "print('Mean Squared Error -->', mean_squared_error(y_test, lasso_predict))\n",
    "print('Root Mean Squared Error -->', np.sqrt(mean_squared_error(y_test, lasso_predict)))\n",
    "\n",
    "r2_results['Lasso Regression'] = r2_score(y_test, lasso_predict)\n",
    "mae_results['Lasso Regression'] = mean_absolute_error(y_test, lasso_predict)\n",
    "mse_results['Lasso Regression'] = mean_squared_error(y_test, lasso_predict)\n",
    "rmse_results['Lasso Regression'] = np.sqrt(mean_squared_error(y_test, lasso_predict))"
   ]
  },
  {
   "cell_type": "code",
   "execution_count": 31,
   "metadata": {},
   "outputs": [
    {
     "data": {
      "text/plain": [
       "dict_keys(['memory', 'steps', 'verbose', 'simpleimputer', 'standardscaler', 'pca', 'lasso', 'simpleimputer__add_indicator', 'simpleimputer__copy', 'simpleimputer__fill_value', 'simpleimputer__missing_values', 'simpleimputer__strategy', 'simpleimputer__verbose', 'standardscaler__copy', 'standardscaler__with_mean', 'standardscaler__with_std', 'pca__copy', 'pca__iterated_power', 'pca__n_components', 'pca__random_state', 'pca__svd_solver', 'pca__tol', 'pca__whiten', 'lasso__alpha', 'lasso__copy_X', 'lasso__fit_intercept', 'lasso__max_iter', 'lasso__normalize', 'lasso__positive', 'lasso__precompute', 'lasso__random_state', 'lasso__selection', 'lasso__tol', 'lasso__warm_start'])"
      ]
     },
     "execution_count": 31,
     "metadata": {},
     "output_type": "execute_result"
    }
   ],
   "source": [
    "LASSO_pipe.get_params().keys()"
   ]
  },
  {
   "cell_type": "code",
   "execution_count": null,
   "metadata": {},
   "outputs": [],
   "source": []
  },
  {
   "cell_type": "markdown",
   "metadata": {},
   "source": [
    "# Metric model Evaluation"
   ]
  },
  {
   "cell_type": "code",
   "execution_count": 32,
   "metadata": {},
   "outputs": [],
   "source": [
    "df_r2 = pd.DataFrame.from_dict(r2_results, orient='index', columns=['R2'])\n",
    "df_mae = pd.DataFrame.from_dict(mae_results, orient='index', columns=['Mean Absolute Error'])\n",
    "df_mse = pd.DataFrame.from_dict(mse_results, orient='index', columns=['Mean Squared Error'])\n",
    "df_rmse = pd.DataFrame.from_dict(rmse_results, orient='index', columns=['Root Mean Squared Error'])"
   ]
  },
  {
   "cell_type": "code",
   "execution_count": 33,
   "metadata": {},
   "outputs": [
    {
     "data": {
      "text/html": [
       "<div>\n",
       "<style scoped>\n",
       "    .dataframe tbody tr th:only-of-type {\n",
       "        vertical-align: middle;\n",
       "    }\n",
       "\n",
       "    .dataframe tbody tr th {\n",
       "        vertical-align: top;\n",
       "    }\n",
       "\n",
       "    .dataframe thead th {\n",
       "        text-align: right;\n",
       "    }\n",
       "</style>\n",
       "<table border=\"1\" class=\"dataframe\">\n",
       "  <thead>\n",
       "    <tr style=\"text-align: right;\">\n",
       "      <th></th>\n",
       "      <th>R2</th>\n",
       "      <th>Mean Absolute Error</th>\n",
       "      <th>Mean Squared Error</th>\n",
       "      <th>Root Mean Squared Error</th>\n",
       "    </tr>\n",
       "  </thead>\n",
       "  <tbody>\n",
       "    <tr>\n",
       "      <th>Linear Regression</th>\n",
       "      <td>0.799771</td>\n",
       "      <td>4008.447484</td>\n",
       "      <td>3.064860e+07</td>\n",
       "      <td>5536.117762</td>\n",
       "    </tr>\n",
       "    <tr>\n",
       "      <th>Random Forest</th>\n",
       "      <td>0.860833</td>\n",
       "      <td>2736.647824</td>\n",
       "      <td>2.130204e+07</td>\n",
       "      <td>4615.413312</td>\n",
       "    </tr>\n",
       "    <tr>\n",
       "      <th>Lasso Regression</th>\n",
       "      <td>0.796857</td>\n",
       "      <td>4021.451883</td>\n",
       "      <td>3.109468e+07</td>\n",
       "      <td>5576.260168</td>\n",
       "    </tr>\n",
       "  </tbody>\n",
       "</table>\n",
       "</div>"
      ],
      "text/plain": [
       "                         R2  Mean Absolute Error  Mean Squared Error  \\\n",
       "Linear Regression  0.799771          4008.447484        3.064860e+07   \n",
       "Random Forest      0.860833          2736.647824        2.130204e+07   \n",
       "Lasso Regression   0.796857          4021.451883        3.109468e+07   \n",
       "\n",
       "                   Root Mean Squared Error  \n",
       "Linear Regression              5536.117762  \n",
       "Random Forest                  4615.413312  \n",
       "Lasso Regression               5576.260168  "
      ]
     },
     "execution_count": 33,
     "metadata": {},
     "output_type": "execute_result"
    }
   ],
   "source": [
    "pd.concat([df_r2, df_mae, df_mse, df_rmse], axis=1)"
   ]
  },
  {
   "cell_type": "code",
   "execution_count": null,
   "metadata": {},
   "outputs": [],
   "source": []
  }
 ],
 "metadata": {
  "kernelspec": {
   "display_name": "Python 3",
   "language": "python",
   "name": "python3"
  },
  "language_info": {
   "codemirror_mode": {
    "name": "ipython",
    "version": 3
   },
   "file_extension": ".py",
   "mimetype": "text/x-python",
   "name": "python",
   "nbconvert_exporter": "python",
   "pygments_lexer": "ipython3",
   "version": "3.8.3"
  }
 },
 "nbformat": 4,
 "nbformat_minor": 4
}
